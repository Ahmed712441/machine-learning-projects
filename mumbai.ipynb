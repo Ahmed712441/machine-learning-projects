{
  "nbformat": 4,
  "nbformat_minor": 0,
  "metadata": {
    "colab": {
      "name": "mumbai.ipynb",
      "provenance": [],
      "collapsed_sections": []
    },
    "kernelspec": {
      "name": "python3",
      "display_name": "Python 3"
    },
    "language_info": {
      "name": "python"
    }
  },
  "cells": [
    {
      "cell_type": "code",
      "metadata": {
        "colab": {
          "base_uri": "https://localhost:8080/",
          "height": 203
        },
        "id": "8Tmvvs-Vlzo6",
        "outputId": "ba98d19d-6e03-4dfe-9b8c-84b1544f8f22"
      },
      "source": [
        "import pandas as pd\n",
        "path = \"/content/drive/MyDrive/Colab Notebooks/Mumbai_House_Rent.csv\"\n",
        "df = pd.read_csv(path)\n",
        "df.head()"
      ],
      "execution_count": 35,
      "outputs": [
        {
          "output_type": "execute_result",
          "data": {
            "text/html": [
              "<div>\n",
              "<style scoped>\n",
              "    .dataframe tbody tr th:only-of-type {\n",
              "        vertical-align: middle;\n",
              "    }\n",
              "\n",
              "    .dataframe tbody tr th {\n",
              "        vertical-align: top;\n",
              "    }\n",
              "\n",
              "    .dataframe thead th {\n",
              "        text-align: right;\n",
              "    }\n",
              "</style>\n",
              "<table border=\"1\" class=\"dataframe\">\n",
              "  <thead>\n",
              "    <tr style=\"text-align: right;\">\n",
              "      <th></th>\n",
              "      <th>Locality</th>\n",
              "      <th>Type</th>\n",
              "      <th>Rent/Month</th>\n",
              "      <th>Build_up_area(sq.ft)</th>\n",
              "      <th>Furnishing</th>\n",
              "      <th>Bathrooms</th>\n",
              "      <th>Balcony</th>\n",
              "      <th>Parking</th>\n",
              "      <th>Carpet_area(sq.ft)</th>\n",
              "    </tr>\n",
              "  </thead>\n",
              "  <tbody>\n",
              "    <tr>\n",
              "      <th>0</th>\n",
              "      <td>Andheri</td>\n",
              "      <td>1 RK Apartment</td>\n",
              "      <td>20000</td>\n",
              "      <td>350 sq.ft</td>\n",
              "      <td>Semi Furnished</td>\n",
              "      <td>1</td>\n",
              "      <td>Missing</td>\n",
              "      <td>0.0</td>\n",
              "      <td>250 sq.ft</td>\n",
              "    </tr>\n",
              "    <tr>\n",
              "      <th>1</th>\n",
              "      <td>Andheri</td>\n",
              "      <td>3 BHK Apartment</td>\n",
              "      <td>100000</td>\n",
              "      <td>1850 sq.ft</td>\n",
              "      <td>Semi Furnished</td>\n",
              "      <td>3</td>\n",
              "      <td>1</td>\n",
              "      <td>2.0</td>\n",
              "      <td>1400 sq.ft</td>\n",
              "    </tr>\n",
              "    <tr>\n",
              "      <th>2</th>\n",
              "      <td>Andheri</td>\n",
              "      <td>2 BHK Apartment</td>\n",
              "      <td>45000</td>\n",
              "      <td>1240 sq.ft</td>\n",
              "      <td>Semi Furnished</td>\n",
              "      <td>2</td>\n",
              "      <td>4</td>\n",
              "      <td>1.0</td>\n",
              "      <td>850 sq.ft</td>\n",
              "    </tr>\n",
              "    <tr>\n",
              "      <th>3</th>\n",
              "      <td>Andheri</td>\n",
              "      <td>1 BHK Apartment</td>\n",
              "      <td>31500</td>\n",
              "      <td>650 sq.ft</td>\n",
              "      <td>Unfurnished</td>\n",
              "      <td>2</td>\n",
              "      <td>Missing</td>\n",
              "      <td>1.0</td>\n",
              "      <td>425 sq.ft</td>\n",
              "    </tr>\n",
              "    <tr>\n",
              "      <th>4</th>\n",
              "      <td>Andheri</td>\n",
              "      <td>2 BHK Apartment</td>\n",
              "      <td>44000</td>\n",
              "      <td>1250 sq.ft</td>\n",
              "      <td>Unfurnished</td>\n",
              "      <td>2</td>\n",
              "      <td>3</td>\n",
              "      <td>1.0</td>\n",
              "      <td>800 sq.ft</td>\n",
              "    </tr>\n",
              "  </tbody>\n",
              "</table>\n",
              "</div>"
            ],
            "text/plain": [
              "  Locality             Type  Rent/Month  ...  Balcony Parking Carpet_area(sq.ft)\n",
              "0  Andheri   1 RK Apartment       20000  ...  Missing     0.0          250 sq.ft\n",
              "1  Andheri  3 BHK Apartment      100000  ...        1     2.0         1400 sq.ft\n",
              "2  Andheri  2 BHK Apartment       45000  ...        4     1.0          850 sq.ft\n",
              "3  Andheri  1 BHK Apartment       31500  ...  Missing     1.0          425 sq.ft\n",
              "4  Andheri  2 BHK Apartment       44000  ...        3     1.0          800 sq.ft\n",
              "\n",
              "[5 rows x 9 columns]"
            ]
          },
          "metadata": {
            "tags": []
          },
          "execution_count": 35
        }
      ]
    },
    {
      "cell_type": "code",
      "metadata": {
        "colab": {
          "base_uri": "https://localhost:8080/"
        },
        "id": "cjXymLmLp4Bl",
        "outputId": "26dfc597-a84e-488f-d10e-5aa9455f1f62"
      },
      "source": [
        "df.Locality.unique()"
      ],
      "execution_count": 36,
      "outputs": [
        {
          "output_type": "execute_result",
          "data": {
            "text/plain": [
              "array(['Andheri', 'Bandra', 'Bhandup', 'Byculla', 'Chembur', 'Colaba',\n",
              "       'Dadar', 'Dharavi', 'Fort', 'Ghatkopar', 'Girgaon', 'Goregaon',\n",
              "       'Govandi', 'Grant Road', 'Jogeshwari', 'Juhu', 'Khar', 'Kurla',\n",
              "       'Lalbaug', 'Lokhandwala', 'Mahalakshmi', 'Mahim', 'Malabar Hill',\n",
              "       'Malad', 'Marine Drive', 'Masjid', 'Matunga', 'Mulund',\n",
              "       'Nariman Point', 'Parel', 'Powai', 'Prabhadevi', 'Santacruz',\n",
              "       'Sion', 'Tardeo', 'Vidyavihar', 'Vikhroli', 'Vile Parle', 'Wadala',\n",
              "       'Worli'], dtype=object)"
            ]
          },
          "metadata": {
            "tags": []
          },
          "execution_count": 36
        }
      ]
    },
    {
      "cell_type": "code",
      "metadata": {
        "colab": {
          "base_uri": "https://localhost:8080/"
        },
        "id": "4qgBSc5twNZG",
        "outputId": "584de674-5e97-4639-9994-e18cd90ac6e8"
      },
      "source": [
        "df.shape"
      ],
      "execution_count": 37,
      "outputs": [
        {
          "output_type": "execute_result",
          "data": {
            "text/plain": [
              "(15386, 9)"
            ]
          },
          "metadata": {
            "tags": []
          },
          "execution_count": 37
        }
      ]
    },
    {
      "cell_type": "code",
      "metadata": {
        "colab": {
          "base_uri": "https://localhost:8080/"
        },
        "id": "V7yARdFTwd1S",
        "outputId": "6445fbad-1a2e-4ccb-9994-c3535c362c48"
      },
      "source": [
        "df.isnull().sum()"
      ],
      "execution_count": 38,
      "outputs": [
        {
          "output_type": "execute_result",
          "data": {
            "text/plain": [
              "Locality                 0\n",
              "Type                     0\n",
              "Rent/Month               0\n",
              "Build_up_area(sq.ft)     0\n",
              "Furnishing               0\n",
              "Bathrooms                0\n",
              "Balcony                  0\n",
              "Parking                 35\n",
              "Carpet_area(sq.ft)       0\n",
              "dtype: int64"
            ]
          },
          "metadata": {
            "tags": []
          },
          "execution_count": 38
        }
      ]
    },
    {
      "cell_type": "code",
      "metadata": {
        "id": "lzcKFCPbwhWU"
      },
      "source": [
        "df.dropna(inplace=True)"
      ],
      "execution_count": 39,
      "outputs": []
    },
    {
      "cell_type": "code",
      "metadata": {
        "colab": {
          "base_uri": "https://localhost:8080/"
        },
        "id": "qmWCZY2zwm5T",
        "outputId": "b41f8a81-a1aa-4ee4-db1d-3ada79e1389e"
      },
      "source": [
        "df.Balcony.unique()"
      ],
      "execution_count": 40,
      "outputs": [
        {
          "output_type": "execute_result",
          "data": {
            "text/plain": [
              "array(['Missing', '1', '4', '3', '2', '5', '6'], dtype=object)"
            ]
          },
          "metadata": {
            "tags": []
          },
          "execution_count": 40
        }
      ]
    },
    {
      "cell_type": "code",
      "metadata": {
        "colab": {
          "base_uri": "https://localhost:8080/"
        },
        "id": "NXVU3yjrw98U",
        "outputId": "23cdd023-f210-40e5-c018-ad55229e83f3"
      },
      "source": [
        "df[df.Balcony=='Missing'].Balcony.count()"
      ],
      "execution_count": 41,
      "outputs": [
        {
          "output_type": "execute_result",
          "data": {
            "text/plain": [
              "9262"
            ]
          },
          "metadata": {
            "tags": []
          },
          "execution_count": 41
        }
      ]
    },
    {
      "cell_type": "code",
      "metadata": {
        "id": "47WqaM2jxMBn"
      },
      "source": [
        "balcony = df[~(df.Balcony=='Missing')].Balcony"
      ],
      "execution_count": 42,
      "outputs": []
    },
    {
      "cell_type": "code",
      "metadata": {
        "id": "HpCe-Fzex51I"
      },
      "source": [
        "balcony = balcony.apply(lambda x: int(x))"
      ],
      "execution_count": 43,
      "outputs": []
    },
    {
      "cell_type": "code",
      "metadata": {
        "colab": {
          "base_uri": "https://localhost:8080/",
          "height": 332
        },
        "id": "UuQnjqLTyC0N",
        "outputId": "fefc52d7-a863-416e-eb42-f61d2d4e971d"
      },
      "source": [
        "import matplotlib.pyplot as plt\n",
        "plt.hist(balcony)"
      ],
      "execution_count": 44,
      "outputs": [
        {
          "output_type": "execute_result",
          "data": {
            "text/plain": [
              "(array([3429.,    0., 1695.,    0.,  772.,    0.,  164.,    0.,   24.,\n",
              "           5.]),\n",
              " array([1. , 1.5, 2. , 2.5, 3. , 3.5, 4. , 4.5, 5. , 5.5, 6. ]),\n",
              " <a list of 10 Patch objects>)"
            ]
          },
          "metadata": {
            "tags": []
          },
          "execution_count": 44
        },
        {
          "output_type": "display_data",
          "data": {
            "image/png": "[encoded data removed]",
            "text/plain": [
              "<Figure size 432x288 with 1 Axes>"
            ]
          },
          "metadata": {
            "tags": [],
            "needs_background": "light"
          }
        }
      ]
    },
    {
      "cell_type": "code",
      "metadata": {
        "colab": {
          "base_uri": "https://localhost:8080/"
        },
        "id": "evsUuj6uzS65",
        "outputId": "119f83db-9f0c-4447-9b69-d7024c2f8a89"
      },
      "source": [
        "df['Build_up_area(sq.ft)'] = df['Build_up_area(sq.ft)'].apply(lambda x: int(x.split()[0]))\n",
        "df['Build_up_area(sq.ft)'].dtype"
      ],
      "execution_count": 45,
      "outputs": [
        {
          "output_type": "execute_result",
          "data": {
            "text/plain": [
              "dtype('int64')"
            ]
          },
          "metadata": {
            "tags": []
          },
          "execution_count": 45
        }
      ]
    },
    {
      "cell_type": "code",
      "metadata": {
        "colab": {
          "base_uri": "https://localhost:8080/"
        },
        "id": "xHSncY6KyguP",
        "outputId": "b3a25285-214d-47a1-885f-f94bd14ae251"
      },
      "source": [
        "df_temp = df[~(df.Balcony=='Missing')]\n",
        "df_temp.Balcony = balcony"
      ],
      "execution_count": 46,
      "outputs": [
        {
          "output_type": "stream",
          "text": [
            "/usr/local/lib/python3.7/dist-packages/pandas/core/generic.py:5170: SettingWithCopyWarning: \n",
            "A value is trying to be set on a copy of a slice from a DataFrame.\n",
            "Try using .loc[row_indexer,col_indexer] = value instead\n",
            "\n",
            "See the caveats in the documentation: https://pandas.pydata.org/pandas-docs/stable/user_guide/indexing.html#returning-a-view-versus-a-copy\n",
            "  self[name] = value\n"
          ],
          "name": "stderr"
        }
      ]
    },
    {
      "cell_type": "code",
      "metadata": {
        "colab": {
          "base_uri": "https://localhost:8080/",
          "height": 265
        },
        "id": "mKf_FMSJyE7T",
        "outputId": "7fc342a5-20f0-47de-ac0b-e179c66c6f16"
      },
      "source": [
        "df_temp.groupby('Balcony')['Build_up_area(sq.ft)'].describe()"
      ],
      "execution_count": 47,
      "outputs": [
        {
          "output_type": "execute_result",
          "data": {
            "text/html": [
              "<div>\n",
              "<style scoped>\n",
              "    .dataframe tbody tr th:only-of-type {\n",
              "        vertical-align: middle;\n",
              "    }\n",
              "\n",
              "    .dataframe tbody tr th {\n",
              "        vertical-align: top;\n",
              "    }\n",
              "\n",
              "    .dataframe thead th {\n",
              "        text-align: right;\n",
              "    }\n",
              "</style>\n",
              "<table border=\"1\" class=\"dataframe\">\n",
              "  <thead>\n",
              "    <tr style=\"text-align: right;\">\n",
              "      <th></th>\n",
              "      <th>count</th>\n",
              "      <th>mean</th>\n",
              "      <th>std</th>\n",
              "      <th>min</th>\n",
              "      <th>25%</th>\n",
              "      <th>50%</th>\n",
              "      <th>75%</th>\n",
              "      <th>max</th>\n",
              "    </tr>\n",
              "    <tr>\n",
              "      <th>Balcony</th>\n",
              "      <th></th>\n",
              "      <th></th>\n",
              "      <th></th>\n",
              "      <th></th>\n",
              "      <th></th>\n",
              "      <th></th>\n",
              "      <th></th>\n",
              "      <th></th>\n",
              "    </tr>\n",
              "  </thead>\n",
              "  <tbody>\n",
              "    <tr>\n",
              "      <th>1</th>\n",
              "      <td>3429.0</td>\n",
              "      <td>954.628463</td>\n",
              "      <td>420.112459</td>\n",
              "      <td>150.0</td>\n",
              "      <td>625.0</td>\n",
              "      <td>925.0</td>\n",
              "      <td>1200.0</td>\n",
              "      <td>3300.0</td>\n",
              "    </tr>\n",
              "    <tr>\n",
              "      <th>2</th>\n",
              "      <td>1695.0</td>\n",
              "      <td>1086.241888</td>\n",
              "      <td>451.855743</td>\n",
              "      <td>150.0</td>\n",
              "      <td>800.0</td>\n",
              "      <td>1000.0</td>\n",
              "      <td>1250.0</td>\n",
              "      <td>3923.0</td>\n",
              "    </tr>\n",
              "    <tr>\n",
              "      <th>3</th>\n",
              "      <td>772.0</td>\n",
              "      <td>1248.002591</td>\n",
              "      <td>461.068921</td>\n",
              "      <td>265.0</td>\n",
              "      <td>950.0</td>\n",
              "      <td>1200.0</td>\n",
              "      <td>1500.0</td>\n",
              "      <td>3500.0</td>\n",
              "    </tr>\n",
              "    <tr>\n",
              "      <th>4</th>\n",
              "      <td>164.0</td>\n",
              "      <td>1581.756098</td>\n",
              "      <td>706.270340</td>\n",
              "      <td>500.0</td>\n",
              "      <td>1200.0</td>\n",
              "      <td>1450.0</td>\n",
              "      <td>1823.0</td>\n",
              "      <td>5200.0</td>\n",
              "    </tr>\n",
              "    <tr>\n",
              "      <th>5</th>\n",
              "      <td>24.0</td>\n",
              "      <td>1647.708333</td>\n",
              "      <td>515.159028</td>\n",
              "      <td>776.0</td>\n",
              "      <td>1387.5</td>\n",
              "      <td>1574.0</td>\n",
              "      <td>1662.5</td>\n",
              "      <td>3500.0</td>\n",
              "    </tr>\n",
              "    <tr>\n",
              "      <th>6</th>\n",
              "      <td>5.0</td>\n",
              "      <td>1880.000000</td>\n",
              "      <td>378.483817</td>\n",
              "      <td>1350.0</td>\n",
              "      <td>1800.0</td>\n",
              "      <td>1850.0</td>\n",
              "      <td>2000.0</td>\n",
              "      <td>2400.0</td>\n",
              "    </tr>\n",
              "  </tbody>\n",
              "</table>\n",
              "</div>"
            ],
            "text/plain": [
              "          count         mean         std  ...     50%     75%     max\n",
              "Balcony                                   ...                        \n",
              "1        3429.0   954.628463  420.112459  ...   925.0  1200.0  3300.0\n",
              "2        1695.0  1086.241888  451.855743  ...  1000.0  1250.0  3923.0\n",
              "3         772.0  1248.002591  461.068921  ...  1200.0  1500.0  3500.0\n",
              "4         164.0  1581.756098  706.270340  ...  1450.0  1823.0  5200.0\n",
              "5          24.0  1647.708333  515.159028  ...  1574.0  1662.5  3500.0\n",
              "6           5.0  1880.000000  378.483817  ...  1850.0  2000.0  2400.0\n",
              "\n",
              "[6 rows x 8 columns]"
            ]
          },
          "metadata": {
            "tags": []
          },
          "execution_count": 47
        }
      ]
    },
    {
      "cell_type": "code",
      "metadata": {
        "colab": {
          "base_uri": "https://localhost:8080/"
        },
        "id": "_3ZmB-29z7Ed",
        "outputId": "e78769c0-eff9-4df7-e40c-bab938e5182f"
      },
      "source": [
        "df_temp.quantile(0.95)"
      ],
      "execution_count": 48,
      "outputs": [
        {
          "output_type": "execute_result",
          "data": {
            "text/plain": [
              "Rent/Month              150000.0\n",
              "Build_up_area(sq.ft)      1850.0\n",
              "Balcony                      3.0\n",
              "Parking                      2.0\n",
              "Name: 0.95, dtype: float64"
            ]
          },
          "metadata": {
            "tags": []
          },
          "execution_count": 48
        }
      ]
    },
    {
      "cell_type": "code",
      "metadata": {
        "colab": {
          "base_uri": "https://localhost:8080/",
          "height": 282
        },
        "id": "WGIxZGum04EV",
        "outputId": "41da2fa7-c07b-4c2c-e268-25eca2b5ba78"
      },
      "source": [
        "for i in range(1,4):\n",
        "  plt.hist(df_temp[df_temp.Balcony==i]['Build_up_area(sq.ft)'],label=[f'{i}'])\n",
        "plt.legend()"
      ],
      "execution_count": 49,
      "outputs": [
        {
          "output_type": "execute_result",
          "data": {
            "text/plain": [
              "<matplotlib.legend.Legend at 0x7f23674e7410>"
            ]
          },
          "metadata": {
            "tags": []
          },
          "execution_count": 49
        },
        {
          "output_type": "display_data",
          "data": {
            "image/png": "[encoded data removed]",
            "text/plain": [
              "<Figure size 432x288 with 1 Axes>"
            ]
          },
          "metadata": {
            "tags": [],
            "needs_background": "light"
          }
        }
      ]
    },
    {
      "cell_type": "code",
      "metadata": {
        "id": "VFpIQbwN2xjh"
      },
      "source": [
        "def fillmissing(x,y):\n",
        "  if x == 'Missing' and y > 1200:\n",
        "    return 2\n",
        "  elif x == 'Missing' and y <= 1200:\n",
        "    return 1\n",
        "  return int(x)"
      ],
      "execution_count": 50,
      "outputs": []
    },
    {
      "cell_type": "code",
      "metadata": {
        "colab": {
          "base_uri": "https://localhost:8080/"
        },
        "id": "PhYCU-Xk4xrB",
        "outputId": "9136d44e-5191-4fb7-a1e2-530b9717e6d3"
      },
      "source": [
        "balcony = df.apply(lambda row:fillmissing(row['Balcony'],row['Build_up_area(sq.ft)']),axis=1)\n",
        "balcony.dtype"
      ],
      "execution_count": 51,
      "outputs": [
        {
          "output_type": "execute_result",
          "data": {
            "text/plain": [
              "dtype('int64')"
            ]
          },
          "metadata": {
            "tags": []
          },
          "execution_count": 51
        }
      ]
    },
    {
      "cell_type": "code",
      "metadata": {
        "colab": {
          "base_uri": "https://localhost:8080/"
        },
        "id": "dsw_uznq5TmX",
        "outputId": "b09fa42c-414c-44cc-c418-9d1547c0b1df"
      },
      "source": [
        "balcony.unique()"
      ],
      "execution_count": 52,
      "outputs": [
        {
          "output_type": "execute_result",
          "data": {
            "text/plain": [
              "array([1, 4, 3, 2, 5, 6])"
            ]
          },
          "metadata": {
            "tags": []
          },
          "execution_count": 52
        }
      ]
    },
    {
      "cell_type": "code",
      "metadata": {
        "colab": {
          "base_uri": "https://localhost:8080/"
        },
        "id": "KJdKsFNk5pFV",
        "outputId": "c4e51d7b-010a-4cf8-9e62-2792bd63a5ee"
      },
      "source": [
        "df.Balcony = balcony\n",
        "df.dtypes"
      ],
      "execution_count": 53,
      "outputs": [
        {
          "output_type": "execute_result",
          "data": {
            "text/plain": [
              "Locality                 object\n",
              "Type                     object\n",
              "Rent/Month                int64\n",
              "Build_up_area(sq.ft)      int64\n",
              "Furnishing               object\n",
              "Bathrooms                object\n",
              "Balcony                   int64\n",
              "Parking                 float64\n",
              "Carpet_area(sq.ft)       object\n",
              "dtype: object"
            ]
          },
          "metadata": {
            "tags": []
          },
          "execution_count": 53
        }
      ]
    },
    {
      "cell_type": "code",
      "metadata": {
        "colab": {
          "base_uri": "https://localhost:8080/"
        },
        "id": "QpGNXXGo6HCA",
        "outputId": "34744633-68e2-43ed-a688-08a38f74d955"
      },
      "source": [
        "import gc\n",
        "del balcony\n",
        "gc.collect()"
      ],
      "execution_count": 54,
      "outputs": [
        {
          "output_type": "execute_result",
          "data": {
            "text/plain": [
              "150"
            ]
          },
          "metadata": {
            "tags": []
          },
          "execution_count": 54
        }
      ]
    },
    {
      "cell_type": "code",
      "metadata": {
        "colab": {
          "base_uri": "https://localhost:8080/"
        },
        "id": "386oMoZQ7k3I",
        "outputId": "415f8643-150d-495b-f6f9-f6d8958a9315"
      },
      "source": [
        "df.Balcony.quantile(0.97)"
      ],
      "execution_count": 55,
      "outputs": [
        {
          "output_type": "execute_result",
          "data": {
            "text/plain": [
              "3.0"
            ]
          },
          "metadata": {
            "tags": []
          },
          "execution_count": 55
        }
      ]
    },
    {
      "cell_type": "code",
      "metadata": {
        "id": "nh3fwsqb72Pr"
      },
      "source": [
        "df1 = df[~(df.Balcony>3)]"
      ],
      "execution_count": 56,
      "outputs": []
    },
    {
      "cell_type": "code",
      "metadata": {
        "colab": {
          "base_uri": "https://localhost:8080/"
        },
        "id": "395jMvxT8Wp3",
        "outputId": "acb9106f-8789-42ab-e586-b64341e91d5a"
      },
      "source": [
        "df1.shape"
      ],
      "execution_count": 57,
      "outputs": [
        {
          "output_type": "execute_result",
          "data": {
            "text/plain": [
              "(15158, 9)"
            ]
          },
          "metadata": {
            "tags": []
          },
          "execution_count": 57
        }
      ]
    },
    {
      "cell_type": "code",
      "metadata": {
        "colab": {
          "base_uri": "https://localhost:8080/",
          "height": 282
        },
        "id": "sVrdmRzy8Xm8",
        "outputId": "0204f361-bf15-45f8-8d54-e107999a6749"
      },
      "source": [
        "for i in range(1,4):\n",
        "  plt.hist(df1[df1.Balcony==i]['Build_up_area(sq.ft)'],label=[f'{i}'])\n",
        "plt.legend()"
      ],
      "execution_count": 58,
      "outputs": [
        {
          "output_type": "execute_result",
          "data": {
            "text/plain": [
              "<matplotlib.legend.Legend at 0x7f23674fdfd0>"
            ]
          },
          "metadata": {
            "tags": []
          },
          "execution_count": 58
        },
        {
          "output_type": "display_data",
          "data": {
            "image/png": "[encoded data removed]",
            "text/plain": [
              "<Figure size 432x288 with 1 Axes>"
            ]
          },
          "metadata": {
            "tags": [],
            "needs_background": "light"
          }
        }
      ]
    },
    {
      "cell_type": "code",
      "metadata": {
        "colab": {
          "base_uri": "https://localhost:8080/"
        },
        "id": "qm7mYQvg8lty",
        "outputId": "a783502d-84e6-44e2-ec9e-074ca2d69eb8"
      },
      "source": [
        "df1['Build_up_area(sq.ft)'].quantile(0.96)"
      ],
      "execution_count": 59,
      "outputs": [
        {
          "output_type": "execute_result",
          "data": {
            "text/plain": [
              "1750.0"
            ]
          },
          "metadata": {
            "tags": []
          },
          "execution_count": 59
        }
      ]
    },
    {
      "cell_type": "code",
      "metadata": {
        "id": "JRo_uSOs83uC"
      },
      "source": [
        "df2 = df1[~(df1['Build_up_area(sq.ft)'] > 2000)]"
      ],
      "execution_count": 60,
      "outputs": []
    },
    {
      "cell_type": "code",
      "metadata": {
        "colab": {
          "base_uri": "https://localhost:8080/"
        },
        "id": "eEkbUzlQ9fRx",
        "outputId": "ecbbc1ca-fcd0-494b-d211-fac67f94b7f2"
      },
      "source": [
        "df2.shape"
      ],
      "execution_count": 61,
      "outputs": [
        {
          "output_type": "execute_result",
          "data": {
            "text/plain": [
              "(14911, 9)"
            ]
          },
          "metadata": {
            "tags": []
          },
          "execution_count": 61
        }
      ]
    },
    {
      "cell_type": "code",
      "metadata": {
        "colab": {
          "base_uri": "https://localhost:8080/",
          "height": 203
        },
        "id": "7ONNLZYA9h8l",
        "outputId": "ea41f0ef-6573-4257-fca0-d2abe6f9edf9"
      },
      "source": [
        "df2.head()"
      ],
      "execution_count": 62,
      "outputs": [
        {
          "output_type": "execute_result",
          "data": {
            "text/html": [
              "<div>\n",
              "<style scoped>\n",
              "    .dataframe tbody tr th:only-of-type {\n",
              "        vertical-align: middle;\n",
              "    }\n",
              "\n",
              "    .dataframe tbody tr th {\n",
              "        vertical-align: top;\n",
              "    }\n",
              "\n",
              "    .dataframe thead th {\n",
              "        text-align: right;\n",
              "    }\n",
              "</style>\n",
              "<table border=\"1\" class=\"dataframe\">\n",
              "  <thead>\n",
              "    <tr style=\"text-align: right;\">\n",
              "      <th></th>\n",
              "      <th>Locality</th>\n",
              "      <th>Type</th>\n",
              "      <th>Rent/Month</th>\n",
              "      <th>Build_up_area(sq.ft)</th>\n",
              "      <th>Furnishing</th>\n",
              "      <th>Bathrooms</th>\n",
              "      <th>Balcony</th>\n",
              "      <th>Parking</th>\n",
              "      <th>Carpet_area(sq.ft)</th>\n",
              "    </tr>\n",
              "  </thead>\n",
              "  <tbody>\n",
              "    <tr>\n",
              "      <th>0</th>\n",
              "      <td>Andheri</td>\n",
              "      <td>1 RK Apartment</td>\n",
              "      <td>20000</td>\n",
              "      <td>350</td>\n",
              "      <td>Semi Furnished</td>\n",
              "      <td>1</td>\n",
              "      <td>1</td>\n",
              "      <td>0.0</td>\n",
              "      <td>250 sq.ft</td>\n",
              "    </tr>\n",
              "    <tr>\n",
              "      <th>1</th>\n",
              "      <td>Andheri</td>\n",
              "      <td>3 BHK Apartment</td>\n",
              "      <td>100000</td>\n",
              "      <td>1850</td>\n",
              "      <td>Semi Furnished</td>\n",
              "      <td>3</td>\n",
              "      <td>1</td>\n",
              "      <td>2.0</td>\n",
              "      <td>1400 sq.ft</td>\n",
              "    </tr>\n",
              "    <tr>\n",
              "      <th>3</th>\n",
              "      <td>Andheri</td>\n",
              "      <td>1 BHK Apartment</td>\n",
              "      <td>31500</td>\n",
              "      <td>650</td>\n",
              "      <td>Unfurnished</td>\n",
              "      <td>2</td>\n",
              "      <td>1</td>\n",
              "      <td>1.0</td>\n",
              "      <td>425 sq.ft</td>\n",
              "    </tr>\n",
              "    <tr>\n",
              "      <th>4</th>\n",
              "      <td>Andheri</td>\n",
              "      <td>2 BHK Apartment</td>\n",
              "      <td>44000</td>\n",
              "      <td>1250</td>\n",
              "      <td>Unfurnished</td>\n",
              "      <td>2</td>\n",
              "      <td>3</td>\n",
              "      <td>1.0</td>\n",
              "      <td>800 sq.ft</td>\n",
              "    </tr>\n",
              "    <tr>\n",
              "      <th>5</th>\n",
              "      <td>Andheri</td>\n",
              "      <td>3 BHK Apartment</td>\n",
              "      <td>65000</td>\n",
              "      <td>1050</td>\n",
              "      <td>Fully Furnished</td>\n",
              "      <td>3</td>\n",
              "      <td>1</td>\n",
              "      <td>2.0</td>\n",
              "      <td>850 sq.ft</td>\n",
              "    </tr>\n",
              "  </tbody>\n",
              "</table>\n",
              "</div>"
            ],
            "text/plain": [
              "  Locality             Type  Rent/Month  ...  Balcony Parking Carpet_area(sq.ft)\n",
              "0  Andheri   1 RK Apartment       20000  ...        1     0.0          250 sq.ft\n",
              "1  Andheri  3 BHK Apartment      100000  ...        1     2.0         1400 sq.ft\n",
              "3  Andheri  1 BHK Apartment       31500  ...        1     1.0          425 sq.ft\n",
              "4  Andheri  2 BHK Apartment       44000  ...        3     1.0          800 sq.ft\n",
              "5  Andheri  3 BHK Apartment       65000  ...        1     2.0          850 sq.ft\n",
              "\n",
              "[5 rows x 9 columns]"
            ]
          },
          "metadata": {
            "tags": []
          },
          "execution_count": 62
        }
      ]
    },
    {
      "cell_type": "code",
      "metadata": {
        "colab": {
          "base_uri": "https://localhost:8080/"
        },
        "id": "2fa0Kf-W9oq-",
        "outputId": "ea038a6a-9f55-4f9a-f6b4-a5721d284328"
      },
      "source": [
        "df2.Type.unique()"
      ],
      "execution_count": 63,
      "outputs": [
        {
          "output_type": "execute_result",
          "data": {
            "text/plain": [
              "array(['1 RK Apartment', '3 BHK Apartment', '1 BHK Apartment',\n",
              "       '2 BHK Apartment'], dtype=object)"
            ]
          },
          "metadata": {
            "tags": []
          },
          "execution_count": 63
        }
      ]
    },
    {
      "cell_type": "code",
      "metadata": {
        "colab": {
          "base_uri": "https://localhost:8080/"
        },
        "id": "y-_hyamq9y9p",
        "outputId": "62682c02-8582-4001-cb48-0db42310d575"
      },
      "source": [
        "Types = df2.Type.apply(lambda x:int(x.split()[0]))\n",
        "Types.unique()"
      ],
      "execution_count": 64,
      "outputs": [
        {
          "output_type": "execute_result",
          "data": {
            "text/plain": [
              "array([1, 3, 2])"
            ]
          },
          "metadata": {
            "tags": []
          },
          "execution_count": 64
        }
      ]
    },
    {
      "cell_type": "code",
      "metadata": {
        "colab": {
          "base_uri": "https://localhost:8080/"
        },
        "id": "56DDymH0-GuN",
        "outputId": "0611944f-3410-4db3-c483-6798849d3129"
      },
      "source": [
        "df2.Type = Types"
      ],
      "execution_count": 65,
      "outputs": [
        {
          "output_type": "stream",
          "text": [
            "/usr/local/lib/python3.7/dist-packages/pandas/core/generic.py:5170: SettingWithCopyWarning: \n",
            "A value is trying to be set on a copy of a slice from a DataFrame.\n",
            "Try using .loc[row_indexer,col_indexer] = value instead\n",
            "\n",
            "See the caveats in the documentation: https://pandas.pydata.org/pandas-docs/stable/user_guide/indexing.html#returning-a-view-versus-a-copy\n",
            "  self[name] = value\n"
          ],
          "name": "stderr"
        }
      ]
    },
    {
      "cell_type": "code",
      "metadata": {
        "colab": {
          "base_uri": "https://localhost:8080/",
          "height": 172
        },
        "id": "PaDuT6Jj-QkO",
        "outputId": "40019eae-6658-470d-9e94-29369051951c"
      },
      "source": [
        "df2.groupby('Type')['Rent/Month'].describe()"
      ],
      "execution_count": 66,
      "outputs": [
        {
          "output_type": "execute_result",
          "data": {
            "text/html": [
              "<div>\n",
              "<style scoped>\n",
              "    .dataframe tbody tr th:only-of-type {\n",
              "        vertical-align: middle;\n",
              "    }\n",
              "\n",
              "    .dataframe tbody tr th {\n",
              "        vertical-align: top;\n",
              "    }\n",
              "\n",
              "    .dataframe thead th {\n",
              "        text-align: right;\n",
              "    }\n",
              "</style>\n",
              "<table border=\"1\" class=\"dataframe\">\n",
              "  <thead>\n",
              "    <tr style=\"text-align: right;\">\n",
              "      <th></th>\n",
              "      <th>count</th>\n",
              "      <th>mean</th>\n",
              "      <th>std</th>\n",
              "      <th>min</th>\n",
              "      <th>25%</th>\n",
              "      <th>50%</th>\n",
              "      <th>75%</th>\n",
              "      <th>max</th>\n",
              "    </tr>\n",
              "    <tr>\n",
              "      <th>Type</th>\n",
              "      <th></th>\n",
              "      <th></th>\n",
              "      <th></th>\n",
              "      <th></th>\n",
              "      <th></th>\n",
              "      <th></th>\n",
              "      <th></th>\n",
              "      <th></th>\n",
              "    </tr>\n",
              "  </thead>\n",
              "  <tbody>\n",
              "    <tr>\n",
              "      <th>1</th>\n",
              "      <td>6006.0</td>\n",
              "      <td>29126.510656</td>\n",
              "      <td>22185.305675</td>\n",
              "      <td>3500.0</td>\n",
              "      <td>20000.0</td>\n",
              "      <td>26000.0</td>\n",
              "      <td>35000.0</td>\n",
              "      <td>1000000.0</td>\n",
              "    </tr>\n",
              "    <tr>\n",
              "      <th>2</th>\n",
              "      <td>6182.0</td>\n",
              "      <td>54744.066160</td>\n",
              "      <td>24542.026385</td>\n",
              "      <td>7000.0</td>\n",
              "      <td>40000.0</td>\n",
              "      <td>47000.0</td>\n",
              "      <td>65000.0</td>\n",
              "      <td>300000.0</td>\n",
              "    </tr>\n",
              "    <tr>\n",
              "      <th>3</th>\n",
              "      <td>2723.0</td>\n",
              "      <td>92640.938671</td>\n",
              "      <td>48483.537449</td>\n",
              "      <td>12000.0</td>\n",
              "      <td>60000.0</td>\n",
              "      <td>75000.0</td>\n",
              "      <td>115000.0</td>\n",
              "      <td>500000.0</td>\n",
              "    </tr>\n",
              "  </tbody>\n",
              "</table>\n",
              "</div>"
            ],
            "text/plain": [
              "       count          mean           std  ...      50%       75%        max\n",
              "Type                                      ...                              \n",
              "1     6006.0  29126.510656  22185.305675  ...  26000.0   35000.0  1000000.0\n",
              "2     6182.0  54744.066160  24542.026385  ...  47000.0   65000.0   300000.0\n",
              "3     2723.0  92640.938671  48483.537449  ...  75000.0  115000.0   500000.0\n",
              "\n",
              "[3 rows x 8 columns]"
            ]
          },
          "metadata": {
            "tags": []
          },
          "execution_count": 66
        }
      ]
    },
    {
      "cell_type": "code",
      "metadata": {
        "colab": {
          "base_uri": "https://localhost:8080/",
          "height": 306
        },
        "id": "174mqcY0-gxC",
        "outputId": "32f62fa6-5e07-48ba-9815-915b68e8a1e4"
      },
      "source": [
        "for i in range(1,4):\n",
        "  plt.scatter(df2[df2.Type==i]['Build_up_area(sq.ft)']*1000,df2[df2.Type==i]['Rent/Month'],label=f'{i}')\n",
        "plt.legend()"
      ],
      "execution_count": 67,
      "outputs": [
        {
          "output_type": "execute_result",
          "data": {
            "text/plain": [
              "<matplotlib.legend.Legend at 0x7f2367372c50>"
            ]
          },
          "metadata": {
            "tags": []
          },
          "execution_count": 67
        },
        {
          "output_type": "display_data",
          "data": {
            "image/png": "[encoded data removed]",
            "text/plain": [
              "<Figure size 432x288 with 1 Axes>"
            ]
          },
          "metadata": {
            "tags": [],
            "needs_background": "light"
          }
        }
      ]
    },
    {
      "cell_type": "code",
      "metadata": {
        "colab": {
          "base_uri": "https://localhost:8080/"
        },
        "id": "O0ZCtDyXA2I_",
        "outputId": "0fa917a0-eb8d-4c57-adee-27482c0e948e"
      },
      "source": [
        "df2[df2['Carpet_area(sq.ft)']==\"Missing\"].count()"
      ],
      "execution_count": 72,
      "outputs": [
        {
          "output_type": "execute_result",
          "data": {
            "text/plain": [
              "Locality                2085\n",
              "Type                    2085\n",
              "Rent/Month              2085\n",
              "Build_up_area(sq.ft)    2085\n",
              "Furnishing              2085\n",
              "Bathrooms               2085\n",
              "Balcony                 2085\n",
              "Parking                 2085\n",
              "Carpet_area(sq.ft)      2085\n",
              "dtype: int64"
            ]
          },
          "metadata": {
            "tags": []
          },
          "execution_count": 72
        }
      ]
    },
    {
      "cell_type": "code",
      "metadata": {
        "id": "9x2ooH8QEGXL"
      },
      "source": [
        "def carpet(x):\n",
        "  try:\n",
        "     return int(x.split()[0])\n",
        "  except:\n",
        "      print(x)\n",
        "      return 0"
      ],
      "execution_count": 70,
      "outputs": []
    },
    {
      "cell_type": "code",
      "metadata": {
        "id": "-G5hTQrADdkc"
      },
      "source": [
        "Carpet_area = df2['Carpet_area(sq.ft)'].apply(lambda x: carpet(x))\n",
        "Carpet_area.dtype"
      ],
      "execution_count": null,
      "outputs": []
    },
    {
      "cell_type": "code",
      "metadata": {
        "colab": {
          "base_uri": "https://localhost:8080/"
        },
        "id": "6QShkz9qFdIx",
        "outputId": "09b6a316-92ba-4f82-b88c-448d3edc40bc"
      },
      "source": [
        "df2['Carpet_area(sq.ft)'] = Carpet_area"
      ],
      "execution_count": 74,
      "outputs": [
        {
          "output_type": "stream",
          "text": [
            "/usr/local/lib/python3.7/dist-packages/ipykernel_launcher.py:1: SettingWithCopyWarning: \n",
            "A value is trying to be set on a copy of a slice from a DataFrame.\n",
            "Try using .loc[row_indexer,col_indexer] = value instead\n",
            "\n",
            "See the caveats in the documentation: https://pandas.pydata.org/pandas-docs/stable/user_guide/indexing.html#returning-a-view-versus-a-copy\n",
            "  \"\"\"Entry point for launching an IPython kernel.\n"
          ],
          "name": "stderr"
        }
      ]
    },
    {
      "cell_type": "code",
      "metadata": {
        "colab": {
          "base_uri": "https://localhost:8080/",
          "height": 673
        },
        "id": "GTq8bAGdDzSn",
        "outputId": "0036dc09-345c-4f57-a26e-e0cdfc7f41b6"
      },
      "source": [
        "for local in df2.Locality.unique():\n",
        "  plt.hist(df2[df2.Locality == local]['Carpet_area(sq.ft)'],label = f'{local}')\n",
        "plt.legend()"
      ],
      "execution_count": 75,
      "outputs": [
        {
          "output_type": "execute_result",
          "data": {
            "text/plain": [
              "<matplotlib.legend.Legend at 0x7f2362781290>"
            ]
          },
          "metadata": {
            "tags": []
          },
          "execution_count": 75
        },
        {
          "output_type": "display_data",
          "data": {
            "image/png": "[encoded data removed]",
            "text/plain": [
              "<Figure size 432x288 with 1 Axes>"
            ]
          },
          "metadata": {
            "tags": [],
            "needs_background": "light"
          }
        }
      ]
    },
    {
      "cell_type": "code",
      "metadata": {
        "colab": {
          "base_uri": "https://localhost:8080/",
          "height": 282
        },
        "id": "iZ8uAcHRF6Yt",
        "outputId": "9f0d3364-3350-41c1-e1c3-2803a7b0a1e1"
      },
      "source": [
        "plt.scatter(df2['Carpet_area(sq.ft)'],df2['Build_up_area(sq.ft)'])"
      ],
      "execution_count": 76,
      "outputs": [
        {
          "output_type": "execute_result",
          "data": {
            "text/plain": [
              "<matplotlib.collections.PathCollection at 0x7f2361ffbcd0>"
            ]
          },
          "metadata": {
            "tags": []
          },
          "execution_count": 76
        },
        {
          "output_type": "display_data",
          "data": {
            "image/png": "[encoded data removed]",
            "text/plain": [
              "<Figure size 432x288 with 1 Axes>"
            ]
          },
          "metadata": {
            "tags": [],
            "needs_background": "light"
          }
        }
      ]
    },
    {
      "cell_type": "code",
      "metadata": {
        "colab": {
          "base_uri": "https://localhost:8080/"
        },
        "id": "s-czcmIYHaBM",
        "outputId": "174dda94-ccdb-4f5e-e8cd-453b915dbaa7"
      },
      "source": [
        "from sklearn.linear_model import LinearRegression\n",
        "x = df2[df2['Carpet_area(sq.ft)']>0]['Build_up_area(sq.ft)']\n",
        "y = df2[df2['Carpet_area(sq.ft)']>0]['Carpet_area(sq.ft)']\n",
        "carpet_model = LinearRegression()\n",
        "carpet_model.fit(x.values.reshape(12826,1),y)"
      ],
      "execution_count": 84,
      "outputs": [
        {
          "output_type": "execute_result",
          "data": {
            "text/plain": [
              "LinearRegression(copy_X=True, fit_intercept=True, n_jobs=None, normalize=False)"
            ]
          },
          "metadata": {
            "tags": []
          },
          "execution_count": 84
        }
      ]
    },
    {
      "cell_type": "code",
      "metadata": {
        "colab": {
          "base_uri": "https://localhost:8080/"
        },
        "id": "hVhpvwKjMyaM",
        "outputId": "273f8148-6426-414c-d2ce-83845cd9b542"
      },
      "source": [
        "carpet_model.predict(df2[['Build_up_area(sq.ft)']])"
      ],
      "execution_count": 88,
      "outputs": [
        {
          "output_type": "execute_result",
          "data": {
            "text/plain": [
              "array([ 284.34307961, 1370.96882279,  501.66822825, ..., 1117.42281605,\n",
              "        248.1222215 ,  885.60932417])"
            ]
          },
          "metadata": {
            "tags": []
          },
          "execution_count": 88
        }
      ]
    },
    {
      "cell_type": "code",
      "metadata": {
        "id": "B3O_Gj-rM-PD"
      },
      "source": [
        "def fillcarpet(x,y):\n",
        "  if(x == 0):\n",
        "    return carpet_model.predict([[y]])[0]\n",
        "  return x"
      ],
      "execution_count": 93,
      "outputs": []
    },
    {
      "cell_type": "code",
      "metadata": {
        "colab": {
          "base_uri": "https://localhost:8080/"
        },
        "id": "5jO6VbFvM_sL",
        "outputId": "6d557d02-8d9d-407c-f775-d7f7667d62e9"
      },
      "source": [
        "carpet = df2.apply(lambda row: fillcarpet(row['Carpet_area(sq.ft)'],row['Build_up_area(sq.ft)']),axis=1)\n",
        "carpet.dtype"
      ],
      "execution_count": 94,
      "outputs": [
        {
          "output_type": "execute_result",
          "data": {
            "text/plain": [
              "dtype('float64')"
            ]
          },
          "metadata": {
            "tags": []
          },
          "execution_count": 94
        }
      ]
    },
    {
      "cell_type": "code",
      "metadata": {
        "colab": {
          "base_uri": "https://localhost:8080/",
          "height": 304
        },
        "id": "8BYqlRw6Pt6K",
        "outputId": "8f94469a-208c-4823-d55d-0fb8a6cbf6c3"
      },
      "source": [
        "df2['Carpet_area(sq.ft)'] = carpet\n",
        "df2.head()"
      ],
      "execution_count": 95,
      "outputs": [
        {
          "output_type": "stream",
          "text": [
            "/usr/local/lib/python3.7/dist-packages/ipykernel_launcher.py:1: SettingWithCopyWarning: \n",
            "A value is trying to be set on a copy of a slice from a DataFrame.\n",
            "Try using .loc[row_indexer,col_indexer] = value instead\n",
            "\n",
            "See the caveats in the documentation: https://pandas.pydata.org/pandas-docs/stable/user_guide/indexing.html#returning-a-view-versus-a-copy\n",
            "  \"\"\"Entry point for launching an IPython kernel.\n"
          ],
          "name": "stderr"
        },
        {
          "output_type": "execute_result",
          "data": {
            "text/html": [
              "<div>\n",
              "<style scoped>\n",
              "    .dataframe tbody tr th:only-of-type {\n",
              "        vertical-align: middle;\n",
              "    }\n",
              "\n",
              "    .dataframe tbody tr th {\n",
              "        vertical-align: top;\n",
              "    }\n",
              "\n",
              "    .dataframe thead th {\n",
              "        text-align: right;\n",
              "    }\n",
              "</style>\n",
              "<table border=\"1\" class=\"dataframe\">\n",
              "  <thead>\n",
              "    <tr style=\"text-align: right;\">\n",
              "      <th></th>\n",
              "      <th>Locality</th>\n",
              "      <th>Type</th>\n",
              "      <th>Rent/Month</th>\n",
              "      <th>Build_up_area(sq.ft)</th>\n",
              "      <th>Furnishing</th>\n",
              "      <th>Bathrooms</th>\n",
              "      <th>Balcony</th>\n",
              "      <th>Parking</th>\n",
              "      <th>Carpet_area(sq.ft)</th>\n",
              "    </tr>\n",
              "  </thead>\n",
              "  <tbody>\n",
              "    <tr>\n",
              "      <th>0</th>\n",
              "      <td>Andheri</td>\n",
              "      <td>1</td>\n",
              "      <td>20000</td>\n",
              "      <td>350</td>\n",
              "      <td>Semi Furnished</td>\n",
              "      <td>1</td>\n",
              "      <td>1</td>\n",
              "      <td>0.0</td>\n",
              "      <td>250.0</td>\n",
              "    </tr>\n",
              "    <tr>\n",
              "      <th>1</th>\n",
              "      <td>Andheri</td>\n",
              "      <td>3</td>\n",
              "      <td>100000</td>\n",
              "      <td>1850</td>\n",
              "      <td>Semi Furnished</td>\n",
              "      <td>3</td>\n",
              "      <td>1</td>\n",
              "      <td>2.0</td>\n",
              "      <td>1400.0</td>\n",
              "    </tr>\n",
              "    <tr>\n",
              "      <th>3</th>\n",
              "      <td>Andheri</td>\n",
              "      <td>1</td>\n",
              "      <td>31500</td>\n",
              "      <td>650</td>\n",
              "      <td>Unfurnished</td>\n",
              "      <td>2</td>\n",
              "      <td>1</td>\n",
              "      <td>1.0</td>\n",
              "      <td>425.0</td>\n",
              "    </tr>\n",
              "    <tr>\n",
              "      <th>4</th>\n",
              "      <td>Andheri</td>\n",
              "      <td>2</td>\n",
              "      <td>44000</td>\n",
              "      <td>1250</td>\n",
              "      <td>Unfurnished</td>\n",
              "      <td>2</td>\n",
              "      <td>3</td>\n",
              "      <td>1.0</td>\n",
              "      <td>800.0</td>\n",
              "    </tr>\n",
              "    <tr>\n",
              "      <th>5</th>\n",
              "      <td>Andheri</td>\n",
              "      <td>3</td>\n",
              "      <td>65000</td>\n",
              "      <td>1050</td>\n",
              "      <td>Fully Furnished</td>\n",
              "      <td>3</td>\n",
              "      <td>1</td>\n",
              "      <td>2.0</td>\n",
              "      <td>850.0</td>\n",
              "    </tr>\n",
              "  </tbody>\n",
              "</table>\n",
              "</div>"
            ],
            "text/plain": [
              "  Locality  Type  Rent/Month  ...  Balcony Parking Carpet_area(sq.ft)\n",
              "0  Andheri     1       20000  ...        1     0.0              250.0\n",
              "1  Andheri     3      100000  ...        1     2.0             1400.0\n",
              "3  Andheri     1       31500  ...        1     1.0              425.0\n",
              "4  Andheri     2       44000  ...        3     1.0              800.0\n",
              "5  Andheri     3       65000  ...        1     2.0              850.0\n",
              "\n",
              "[5 rows x 9 columns]"
            ]
          },
          "metadata": {
            "tags": []
          },
          "execution_count": 95
        }
      ]
    },
    {
      "cell_type": "code",
      "metadata": {
        "colab": {
          "base_uri": "https://localhost:8080/"
        },
        "id": "jSTVZP30T8MJ",
        "outputId": "f2816bfd-0457-45e7-91ef-14a78024ac1c"
      },
      "source": [
        "df2.dtypes"
      ],
      "execution_count": 96,
      "outputs": [
        {
          "output_type": "execute_result",
          "data": {
            "text/plain": [
              "Locality                 object\n",
              "Type                      int64\n",
              "Rent/Month                int64\n",
              "Build_up_area(sq.ft)      int64\n",
              "Furnishing               object\n",
              "Bathrooms                object\n",
              "Balcony                   int64\n",
              "Parking                 float64\n",
              "Carpet_area(sq.ft)      float64\n",
              "dtype: object"
            ]
          },
          "metadata": {
            "tags": []
          },
          "execution_count": 96
        }
      ]
    },
    {
      "cell_type": "code",
      "metadata": {
        "colab": {
          "base_uri": "https://localhost:8080/"
        },
        "id": "vFqdbzl4UKAv",
        "outputId": "e2f70890-33e7-4806-d130-40b34259c09f"
      },
      "source": [
        "df2.Furnishing.unique()"
      ],
      "execution_count": 97,
      "outputs": [
        {
          "output_type": "execute_result",
          "data": {
            "text/plain": [
              "array(['Semi Furnished', 'Unfurnished', 'Fully Furnished'], dtype=object)"
            ]
          },
          "metadata": {
            "tags": []
          },
          "execution_count": 97
        }
      ]
    },
    {
      "cell_type": "code",
      "metadata": {
        "colab": {
          "base_uri": "https://localhost:8080/",
          "height": 293
        },
        "id": "vBhAZwQCUWWY",
        "outputId": "fd22ab94-f75a-41c1-de39-894adac00cbb"
      },
      "source": [
        "for furn in df2.Furnishing.unique():\n",
        "  plt.scatter(df2[df2.Furnishing==furn]['Carpet_area(sq.ft)'],df2[df2.Furnishing==furn]['Rent/Month'],label=f'{furn}')\n",
        "plt.legend()"
      ],
      "execution_count": 98,
      "outputs": [
        {
          "output_type": "execute_result",
          "data": {
            "text/plain": [
              "<matplotlib.legend.Legend at 0x7f2351172690>"
            ]
          },
          "metadata": {
            "tags": []
          },
          "execution_count": 98
        },
        {
          "output_type": "display_data",
          "data": {
            "image/png": "[encoded data removed]",
            "text/plain": [
              "<Figure size 432x288 with 1 Axes>"
            ]
          },
          "metadata": {
            "tags": [],
            "needs_background": "light"
          }
        }
      ]
    },
    {
      "cell_type": "code",
      "metadata": {
        "colab": {
          "base_uri": "https://localhost:8080/",
          "height": 172
        },
        "id": "yCy4PxAUU8_9",
        "outputId": "bf6b085c-2710-4d94-971f-c188b2c50ee9"
      },
      "source": [
        "df2.groupby('Furnishing')['Rent/Month'].describe()"
      ],
      "execution_count": 99,
      "outputs": [
        {
          "output_type": "execute_result",
          "data": {
            "text/html": [
              "<div>\n",
              "<style scoped>\n",
              "    .dataframe tbody tr th:only-of-type {\n",
              "        vertical-align: middle;\n",
              "    }\n",
              "\n",
              "    .dataframe tbody tr th {\n",
              "        vertical-align: top;\n",
              "    }\n",
              "\n",
              "    .dataframe thead th {\n",
              "        text-align: right;\n",
              "    }\n",
              "</style>\n",
              "<table border=\"1\" class=\"dataframe\">\n",
              "  <thead>\n",
              "    <tr style=\"text-align: right;\">\n",
              "      <th></th>\n",
              "      <th>count</th>\n",
              "      <th>mean</th>\n",
              "      <th>std</th>\n",
              "      <th>min</th>\n",
              "      <th>25%</th>\n",
              "      <th>50%</th>\n",
              "      <th>75%</th>\n",
              "      <th>max</th>\n",
              "    </tr>\n",
              "    <tr>\n",
              "      <th>Furnishing</th>\n",
              "      <th></th>\n",
              "      <th></th>\n",
              "      <th></th>\n",
              "      <th></th>\n",
              "      <th></th>\n",
              "      <th></th>\n",
              "      <th></th>\n",
              "      <th></th>\n",
              "    </tr>\n",
              "  </thead>\n",
              "  <tbody>\n",
              "    <tr>\n",
              "      <th>Fully Furnished</th>\n",
              "      <td>4079.0</td>\n",
              "      <td>64400.898505</td>\n",
              "      <td>40562.104980</td>\n",
              "      <td>3500.0</td>\n",
              "      <td>37000.0</td>\n",
              "      <td>55000.0</td>\n",
              "      <td>80000.0</td>\n",
              "      <td>500000.0</td>\n",
              "    </tr>\n",
              "    <tr>\n",
              "      <th>Semi Furnished</th>\n",
              "      <td>6368.0</td>\n",
              "      <td>53026.884579</td>\n",
              "      <td>40309.546072</td>\n",
              "      <td>3750.0</td>\n",
              "      <td>30000.0</td>\n",
              "      <td>43000.0</td>\n",
              "      <td>65000.0</td>\n",
              "      <td>1000000.0</td>\n",
              "    </tr>\n",
              "    <tr>\n",
              "      <th>Unfurnished</th>\n",
              "      <td>4464.0</td>\n",
              "      <td>37019.814068</td>\n",
              "      <td>21550.208199</td>\n",
              "      <td>4000.0</td>\n",
              "      <td>23000.0</td>\n",
              "      <td>33000.0</td>\n",
              "      <td>45000.0</td>\n",
              "      <td>225000.0</td>\n",
              "    </tr>\n",
              "  </tbody>\n",
              "</table>\n",
              "</div>"
            ],
            "text/plain": [
              "                  count          mean  ...      75%        max\n",
              "Furnishing                             ...                    \n",
              "Fully Furnished  4079.0  64400.898505  ...  80000.0   500000.0\n",
              "Semi Furnished   6368.0  53026.884579  ...  65000.0  1000000.0\n",
              "Unfurnished      4464.0  37019.814068  ...  45000.0   225000.0\n",
              "\n",
              "[3 rows x 8 columns]"
            ]
          },
          "metadata": {
            "tags": []
          },
          "execution_count": 99
        }
      ]
    },
    {
      "cell_type": "code",
      "metadata": {
        "colab": {
          "base_uri": "https://localhost:8080/",
          "height": 295
        },
        "id": "A1I5BbouVYNY",
        "outputId": "d73e72c5-635a-4295-ecd1-e33cce1d0102"
      },
      "source": [
        "for furn in df2.Furnishing.unique():\n",
        "  plt.hist(df2[df2.Furnishing==furn]['Rent/Month'],label=f'{furn}',fill=False,stacked=True,histtype='step')\n",
        "plt.legend()\n",
        "# ax2.hist(x, n_bins, histtype='step', stacked=True, fill=False)"
      ],
      "execution_count": 126,
      "outputs": [
        {
          "output_type": "execute_result",
          "data": {
            "text/plain": [
              "<matplotlib.legend.Legend at 0x7f234e00ee50>"
            ]
          },
          "metadata": {
            "tags": []
          },
          "execution_count": 126
        },
        {
          "output_type": "display_data",
          "data": {
            "image/png": "[encoded data removed]",
            "text/plain": [
              "<Figure size 432x288 with 1 Axes>"
            ]
          },
          "metadata": {
            "tags": [],
            "needs_background": "light"
          }
        }
      ]
    },
    {
      "cell_type": "code",
      "metadata": {
        "id": "3bGCge4BWMf2"
      },
      "source": [
        "furn = df2.Furnishing.unique()"
      ],
      "execution_count": 130,
      "outputs": []
    },
    {
      "cell_type": "code",
      "metadata": {
        "colab": {
          "base_uri": "https://localhost:8080/",
          "height": 335
        },
        "id": "wXv3xICYVtKc",
        "outputId": "7e679a15-6b3d-46e0-dee6-1876da91e03e"
      },
      "source": [
        "plt.hist([df2[df2.Furnishing==furn[0]]['Rent/Month'],df2[df2.Furnishing==furn[1]]['Rent/Month'],df2[df2.Furnishing==furn[2]]['Rent/Month']]\\\n",
        "          ,bins=[0,100000,200000,300000,400000],label=[f'{furn[0]}',f'{furn[1]}',f'{furn[2]}'])\n",
        "plt.legend()"
      ],
      "execution_count": 120,
      "outputs": [
        {
          "output_type": "stream",
          "text": [
            "/usr/local/lib/python3.7/dist-packages/numpy/core/_asarray.py:83: VisibleDeprecationWarning: Creating an ndarray from ragged nested sequences (which is a list-or-tuple of lists-or-tuples-or ndarrays with different lengths or shapes) is deprecated. If you meant to do this, you must specify 'dtype=object' when creating the ndarray\n",
            "  return array(a, dtype, copy=False, order=order)\n"
          ],
          "name": "stderr"
        },
        {
          "output_type": "execute_result",
          "data": {
            "text/plain": [
              "<matplotlib.legend.Legend at 0x7f234e1e7cd0>"
            ]
          },
          "metadata": {
            "tags": []
          },
          "execution_count": 120
        },
        {
          "output_type": "display_data",
          "data": {
            "image/png": "[encoded data removed]",
            "text/plain": [
              "<Figure size 432x288 with 1 Axes>"
            ]
          },
          "metadata": {
            "tags": [],
            "needs_background": "light"
          }
        }
      ]
    },
    {
      "cell_type": "code",
      "metadata": {
        "colab": {
          "base_uri": "https://localhost:8080/"
        },
        "id": "dLuTGCeHWd-u",
        "outputId": "5d44a261-c6d8-4ee5-a6b8-4e69d9cf9fb1"
      },
      "source": [
        "df2[df2.Furnishing==furn[0]]['Rent/Month']"
      ],
      "execution_count": 111,
      "outputs": [
        {
          "output_type": "execute_result",
          "data": {
            "text/plain": [
              "Series([], Name: Rent/Month, dtype: int64)"
            ]
          },
          "metadata": {
            "tags": []
          },
          "execution_count": 111
        }
      ]
    },
    {
      "cell_type": "code",
      "metadata": {
        "colab": {
          "base_uri": "https://localhost:8080/",
          "height": 35
        },
        "id": "Km5G3BLEX91j",
        "outputId": "9c5583ae-b614-4dfc-9279-51c5a36ca425"
      },
      "source": [
        "furn[2]"
      ],
      "execution_count": 137,
      "outputs": [
        {
          "output_type": "execute_result",
          "data": {
            "application/vnd.google.colaboratory.intrinsic+json": {
              "type": "string"
            },
            "text/plain": [
              "'Fully Furnished'"
            ]
          },
          "metadata": {
            "tags": []
          },
          "execution_count": 137
        }
      ]
    },
    {
      "cell_type": "code",
      "metadata": {
        "colab": {
          "base_uri": "https://localhost:8080/"
        },
        "id": "xrv4iQp-YFpr",
        "outputId": "27e3739c-af6c-44f8-def0-909ae9abd42c"
      },
      "source": [
        "df2[df2.Furnishing==furn[0]]['Rent/Month'] < 140000.0"
      ],
      "execution_count": 134,
      "outputs": [
        {
          "output_type": "execute_result",
          "data": {
            "text/plain": [
              "0        True\n",
              "1        True\n",
              "6        True\n",
              "7        True\n",
              "10       True\n",
              "         ... \n",
              "15356    True\n",
              "15364    True\n",
              "15367    True\n",
              "15374    True\n",
              "15379    True\n",
              "Name: Rent/Month, Length: 6368, dtype: bool"
            ]
          },
          "metadata": {
            "tags": []
          },
          "execution_count": 134
        }
      ]
    },
    {
      "cell_type": "code",
      "metadata": {
        "colab": {
          "base_uri": "https://localhost:8080/"
        },
        "id": "4pXNXM0Kep1y",
        "outputId": "8e667d8e-10b0-47f5-f59f-de4e412fd2c0"
      },
      "source": [
        "df2[df2.Furnishing==furn[1]]['Rent/Month'] < 87000.0"
      ],
      "execution_count": 136,
      "outputs": [
        {
          "output_type": "execute_result",
          "data": {
            "text/plain": [
              "87000.0"
            ]
          },
          "metadata": {
            "tags": []
          },
          "execution_count": 136
        }
      ]
    },
    {
      "cell_type": "code",
      "metadata": {
        "colab": {
          "base_uri": "https://localhost:8080/"
        },
        "id": "vkCXeHZ_fqrR",
        "outputId": "b593d7ed-f4da-4e56-8622-125513a44797"
      },
      "source": [
        "df2.groupby('Furnishing')['Rent/Month']"
      ],
      "execution_count": 147,
      "outputs": [
        {
          "output_type": "execute_result",
          "data": {
            "text/plain": [
              "<pandas.core.groupby.generic.SeriesGroupBy object at 0x7f234daa3890>"
            ]
          },
          "metadata": {
            "tags": []
          },
          "execution_count": 147
        }
      ]
    },
    {
      "cell_type": "code",
      "metadata": {
        "id": "eGh2jVAVhlFi"
      },
      "source": [
        "import numpy as np\n",
        "def remove_outliers(df):\n",
        "    df_out = pd.DataFrame()\n",
        "    for key ,subdf in df.groupby('Furnishing'):\n",
        "        mean = np.mean(subdf['Rent/Month'])\n",
        "        std = np.std(subdf['Rent/Month'])\n",
        "        reduced_df = subdf[(subdf['Rent/Month']<=(std+mean)) & (subdf['Rent/Month']>=(mean-std))]\n",
        "        df_out = pd.concat([df_out,reduced_df],ignore_index=True)\n",
        "    return df_out"
      ],
      "execution_count": 152,
      "outputs": []
    },
    {
      "cell_type": "code",
      "metadata": {
        "id": "zIUPxuu5f5dp"
      },
      "source": [
        "df3 = remove_outliers(df2)"
      ],
      "execution_count": 153,
      "outputs": []
    },
    {
      "cell_type": "code",
      "metadata": {
        "colab": {
          "base_uri": "https://localhost:8080/"
        },
        "id": "tBl5hVyeh6yF",
        "outputId": "9ef8097c-c6af-4407-c503-f4152407167d"
      },
      "source": [
        "df3.shape"
      ],
      "execution_count": 154,
      "outputs": [
        {
          "output_type": "execute_result",
          "data": {
            "text/plain": [
              "(12416, 9)"
            ]
          },
          "metadata": {
            "tags": []
          },
          "execution_count": 154
        }
      ]
    },
    {
      "cell_type": "code",
      "metadata": {
        "colab": {
          "base_uri": "https://localhost:8080/",
          "height": 203
        },
        "id": "n7_v4ObMiRpg",
        "outputId": "7c0163ff-2f8c-4322-d413-8533ffce65b8"
      },
      "source": [
        "df3.head()"
      ],
      "execution_count": 155,
      "outputs": [
        {
          "output_type": "execute_result",
          "data": {
            "text/html": [
              "<div>\n",
              "<style scoped>\n",
              "    .dataframe tbody tr th:only-of-type {\n",
              "        vertical-align: middle;\n",
              "    }\n",
              "\n",
              "    .dataframe tbody tr th {\n",
              "        vertical-align: top;\n",
              "    }\n",
              "\n",
              "    .dataframe thead th {\n",
              "        text-align: right;\n",
              "    }\n",
              "</style>\n",
              "<table border=\"1\" class=\"dataframe\">\n",
              "  <thead>\n",
              "    <tr style=\"text-align: right;\">\n",
              "      <th></th>\n",
              "      <th>Locality</th>\n",
              "      <th>Type</th>\n",
              "      <th>Rent/Month</th>\n",
              "      <th>Build_up_area(sq.ft)</th>\n",
              "      <th>Furnishing</th>\n",
              "      <th>Bathrooms</th>\n",
              "      <th>Balcony</th>\n",
              "      <th>Parking</th>\n",
              "      <th>Carpet_area(sq.ft)</th>\n",
              "    </tr>\n",
              "  </thead>\n",
              "  <tbody>\n",
              "    <tr>\n",
              "      <th>0</th>\n",
              "      <td>Andheri</td>\n",
              "      <td>3</td>\n",
              "      <td>65000</td>\n",
              "      <td>1050</td>\n",
              "      <td>Fully Furnished</td>\n",
              "      <td>3</td>\n",
              "      <td>1</td>\n",
              "      <td>2.0</td>\n",
              "      <td>850.000000</td>\n",
              "    </tr>\n",
              "    <tr>\n",
              "      <th>1</th>\n",
              "      <td>Andheri</td>\n",
              "      <td>2</td>\n",
              "      <td>75000</td>\n",
              "      <td>750</td>\n",
              "      <td>Fully Furnished</td>\n",
              "      <td>2</td>\n",
              "      <td>1</td>\n",
              "      <td>1.0</td>\n",
              "      <td>650.000000</td>\n",
              "    </tr>\n",
              "    <tr>\n",
              "      <th>2</th>\n",
              "      <td>Andheri</td>\n",
              "      <td>2</td>\n",
              "      <td>42000</td>\n",
              "      <td>1000</td>\n",
              "      <td>Fully Furnished</td>\n",
              "      <td>2</td>\n",
              "      <td>1</td>\n",
              "      <td>1.0</td>\n",
              "      <td>755.214235</td>\n",
              "    </tr>\n",
              "    <tr>\n",
              "      <th>3</th>\n",
              "      <td>Andheri</td>\n",
              "      <td>3</td>\n",
              "      <td>75000</td>\n",
              "      <td>1200</td>\n",
              "      <td>Fully Furnished</td>\n",
              "      <td>3</td>\n",
              "      <td>1</td>\n",
              "      <td>1.0</td>\n",
              "      <td>900.097667</td>\n",
              "    </tr>\n",
              "    <tr>\n",
              "      <th>4</th>\n",
              "      <td>Andheri</td>\n",
              "      <td>2</td>\n",
              "      <td>49500</td>\n",
              "      <td>1000</td>\n",
              "      <td>Fully Furnished</td>\n",
              "      <td>2</td>\n",
              "      <td>1</td>\n",
              "      <td>1.0</td>\n",
              "      <td>800.000000</td>\n",
              "    </tr>\n",
              "  </tbody>\n",
              "</table>\n",
              "</div>"
            ],
            "text/plain": [
              "  Locality  Type  Rent/Month  ...  Balcony Parking Carpet_area(sq.ft)\n",
              "0  Andheri     3       65000  ...        1     2.0         850.000000\n",
              "1  Andheri     2       75000  ...        1     1.0         650.000000\n",
              "2  Andheri     2       42000  ...        1     1.0         755.214235\n",
              "3  Andheri     3       75000  ...        1     1.0         900.097667\n",
              "4  Andheri     2       49500  ...        1     1.0         800.000000\n",
              "\n",
              "[5 rows x 9 columns]"
            ]
          },
          "metadata": {
            "tags": []
          },
          "execution_count": 155
        }
      ]
    },
    {
      "cell_type": "code",
      "metadata": {
        "colab": {
          "base_uri": "https://localhost:8080/"
        },
        "id": "1WqXgUhvl2-c",
        "outputId": "d7af519d-c88b-476a-f81a-94763417bc48"
      },
      "source": [
        "def bathrooms(x):\n",
        "  try:\n",
        "    return int(x)\n",
        "  except:\n",
        "    return 0\n",
        "bathrooms = df3.Bathrooms.apply(lambda x:bathrooms(x))\n",
        "bathrooms.dtype"
      ],
      "execution_count": 169,
      "outputs": [
        {
          "output_type": "execute_result",
          "data": {
            "text/plain": [
              "dtype('int64')"
            ]
          },
          "metadata": {
            "tags": []
          },
          "execution_count": 169
        }
      ]
    },
    {
      "cell_type": "code",
      "metadata": {
        "id": "ovcKdqU9mRLI"
      },
      "source": [
        "df3.Bathrooms = bathrooms"
      ],
      "execution_count": 171,
      "outputs": []
    },
    {
      "cell_type": "code",
      "metadata": {
        "colab": {
          "base_uri": "https://localhost:8080/",
          "height": 282
        },
        "id": "s0p9wQzXmchh",
        "outputId": "ab188904-447c-4c3e-c94e-3adb1fb386a5"
      },
      "source": [
        "plt.scatter(df3.Bathrooms,df3['Carpet_area(sq.ft)'])"
      ],
      "execution_count": 172,
      "outputs": [
        {
          "output_type": "execute_result",
          "data": {
            "text/plain": [
              "<matplotlib.collections.PathCollection at 0x7f234d9a88d0>"
            ]
          },
          "metadata": {
            "tags": []
          },
          "execution_count": 172
        },
        {
          "output_type": "display_data",
          "data": {
            "image/png": "[encoded data removed]",
            "text/plain": [
              "<Figure size 432x288 with 1 Axes>"
            ]
          },
          "metadata": {
            "tags": [],
            "needs_background": "light"
          }
        }
      ]
    },
    {
      "cell_type": "code",
      "metadata": {
        "colab": {
          "base_uri": "https://localhost:8080/"
        },
        "id": "6WmKCYgLmZIn",
        "outputId": "cd7c2e61-7e60-4165-96a9-4e997ee43083"
      },
      "source": [
        "df3.Bathrooms.median()"
      ],
      "execution_count": 174,
      "outputs": [
        {
          "output_type": "execute_result",
          "data": {
            "text/plain": [
              "2.0"
            ]
          },
          "metadata": {
            "tags": []
          },
          "execution_count": 174
        }
      ]
    },
    {
      "cell_type": "code",
      "metadata": {
        "id": "hVB61YlSnErt"
      },
      "source": [
        "df3.Bathrooms = df3.Bathrooms.apply(lambda x:  2 if x==0 else x)"
      ],
      "execution_count": 176,
      "outputs": []
    },
    {
      "cell_type": "code",
      "metadata": {
        "colab": {
          "base_uri": "https://localhost:8080/"
        },
        "id": "O1FyZvgvoRAE",
        "outputId": "150ff6fc-e13f-4190-b319-503b0e6523ff"
      },
      "source": [
        "df3.Bathrooms.unique()"
      ],
      "execution_count": 177,
      "outputs": [
        {
          "output_type": "execute_result",
          "data": {
            "text/plain": [
              "array([3, 2, 1, 4, 5, 6])"
            ]
          },
          "metadata": {
            "tags": []
          },
          "execution_count": 177
        }
      ]
    },
    {
      "cell_type": "code",
      "metadata": {
        "id": "eWHhFGsejahH"
      },
      "source": [
        "dummies1 = pd.get_dummies(df3.Locality,drop_first=True)\n",
        "dummies2 = pd.get_dummies(df3.Furnishing,drop_first=True)"
      ],
      "execution_count": 178,
      "outputs": []
    },
    {
      "cell_type": "code",
      "metadata": {
        "colab": {
          "base_uri": "https://localhost:8080/"
        },
        "id": "1dRzE9zckKa5",
        "outputId": "b7204edd-9f17-4d5c-a315-49035117e559"
      },
      "source": [
        "df4 = pd.concat([df3,dummies1,dummies2],axis='columns')\n",
        "df4.shape"
      ],
      "execution_count": 179,
      "outputs": [
        {
          "output_type": "execute_result",
          "data": {
            "text/plain": [
              "(12416, 50)"
            ]
          },
          "metadata": {
            "tags": []
          },
          "execution_count": 179
        }
      ]
    },
    {
      "cell_type": "code",
      "metadata": {
        "colab": {
          "base_uri": "https://localhost:8080/",
          "height": 324
        },
        "id": "LKG2WESLklvS",
        "outputId": "66da7ed0-0d48-47af-b06c-3a7b124cb0ae"
      },
      "source": [
        "df4.head()"
      ],
      "execution_count": 180,
      "outputs": [
        {
          "output_type": "execute_result",
          "data": {
            "text/html": [
              "<div>\n",
              "<style scoped>\n",
              "    .dataframe tbody tr th:only-of-type {\n",
              "        vertical-align: middle;\n",
              "    }\n",
              "\n",
              "    .dataframe tbody tr th {\n",
              "        vertical-align: top;\n",
              "    }\n",
              "\n",
              "    .dataframe thead th {\n",
              "        text-align: right;\n",
              "    }\n",
              "</style>\n",
              "<table border=\"1\" class=\"dataframe\">\n",
              "  <thead>\n",
              "    <tr style=\"text-align: right;\">\n",
              "      <th></th>\n",
              "      <th>Locality</th>\n",
              "      <th>Type</th>\n",
              "      <th>Rent/Month</th>\n",
              "      <th>Build_up_area(sq.ft)</th>\n",
              "      <th>Furnishing</th>\n",
              "      <th>Bathrooms</th>\n",
              "      <th>Balcony</th>\n",
              "      <th>Parking</th>\n",
              "      <th>Carpet_area(sq.ft)</th>\n",
              "      <th>Bandra</th>\n",
              "      <th>Bhandup</th>\n",
              "      <th>Byculla</th>\n",
              "      <th>Chembur</th>\n",
              "      <th>Colaba</th>\n",
              "      <th>Dadar</th>\n",
              "      <th>Dharavi</th>\n",
              "      <th>Fort</th>\n",
              "      <th>Ghatkopar</th>\n",
              "      <th>Girgaon</th>\n",
              "      <th>Goregaon</th>\n",
              "      <th>Govandi</th>\n",
              "      <th>Grant Road</th>\n",
              "      <th>Jogeshwari</th>\n",
              "      <th>Juhu</th>\n",
              "      <th>Khar</th>\n",
              "      <th>Kurla</th>\n",
              "      <th>Lalbaug</th>\n",
              "      <th>Lokhandwala</th>\n",
              "      <th>Mahalakshmi</th>\n",
              "      <th>Mahim</th>\n",
              "      <th>Malabar Hill</th>\n",
              "      <th>Malad</th>\n",
              "      <th>Marine Drive</th>\n",
              "      <th>Masjid</th>\n",
              "      <th>Matunga</th>\n",
              "      <th>Mulund</th>\n",
              "      <th>Nariman Point</th>\n",
              "      <th>Parel</th>\n",
              "      <th>Powai</th>\n",
              "      <th>Prabhadevi</th>\n",
              "      <th>Santacruz</th>\n",
              "      <th>Sion</th>\n",
              "      <th>Tardeo</th>\n",
              "      <th>Vidyavihar</th>\n",
              "      <th>Vikhroli</th>\n",
              "      <th>Vile Parle</th>\n",
              "      <th>Wadala</th>\n",
              "      <th>Worli</th>\n",
              "      <th>Semi Furnished</th>\n",
              "      <th>Unfurnished</th>\n",
              "    </tr>\n",
              "  </thead>\n",
              "  <tbody>\n",
              "    <tr>\n",
              "      <th>0</th>\n",
              "      <td>Andheri</td>\n",
              "      <td>3</td>\n",
              "      <td>65000</td>\n",
              "      <td>1050</td>\n",
              "      <td>Fully Furnished</td>\n",
              "      <td>3</td>\n",
              "      <td>1</td>\n",
              "      <td>2.0</td>\n",
              "      <td>850.000000</td>\n",
              "      <td>0</td>\n",
              "      <td>0</td>\n",
              "      <td>0</td>\n",
              "      <td>0</td>\n",
              "      <td>0</td>\n",
              "      <td>0</td>\n",
              "      <td>0</td>\n",
              "      <td>0</td>\n",
              "      <td>0</td>\n",
              "      <td>0</td>\n",
              "      <td>0</td>\n",
              "      <td>0</td>\n",
              "      <td>0</td>\n",
              "      <td>0</td>\n",
              "      <td>0</td>\n",
              "      <td>0</td>\n",
              "      <td>0</td>\n",
              "      <td>0</td>\n",
              "      <td>0</td>\n",
              "      <td>0</td>\n",
              "      <td>0</td>\n",
              "      <td>0</td>\n",
              "      <td>0</td>\n",
              "      <td>0</td>\n",
              "      <td>0</td>\n",
              "      <td>0</td>\n",
              "      <td>0</td>\n",
              "      <td>0</td>\n",
              "      <td>0</td>\n",
              "      <td>0</td>\n",
              "      <td>0</td>\n",
              "      <td>0</td>\n",
              "      <td>0</td>\n",
              "      <td>0</td>\n",
              "      <td>0</td>\n",
              "      <td>0</td>\n",
              "      <td>0</td>\n",
              "      <td>0</td>\n",
              "      <td>0</td>\n",
              "      <td>0</td>\n",
              "      <td>0</td>\n",
              "    </tr>\n",
              "    <tr>\n",
              "      <th>1</th>\n",
              "      <td>Andheri</td>\n",
              "      <td>2</td>\n",
              "      <td>75000</td>\n",
              "      <td>750</td>\n",
              "      <td>Fully Furnished</td>\n",
              "      <td>2</td>\n",
              "      <td>1</td>\n",
              "      <td>1.0</td>\n",
              "      <td>650.000000</td>\n",
              "      <td>0</td>\n",
              "      <td>0</td>\n",
              "      <td>0</td>\n",
              "      <td>0</td>\n",
              "      <td>0</td>\n",
              "      <td>0</td>\n",
              "      <td>0</td>\n",
              "      <td>0</td>\n",
              "      <td>0</td>\n",
              "      <td>0</td>\n",
              "      <td>0</td>\n",
              "      <td>0</td>\n",
              "      <td>0</td>\n",
              "      <td>0</td>\n",
              "      <td>0</td>\n",
              "      <td>0</td>\n",
              "      <td>0</td>\n",
              "      <td>0</td>\n",
              "      <td>0</td>\n",
              "      <td>0</td>\n",
              "      <td>0</td>\n",
              "      <td>0</td>\n",
              "      <td>0</td>\n",
              "      <td>0</td>\n",
              "      <td>0</td>\n",
              "      <td>0</td>\n",
              "      <td>0</td>\n",
              "      <td>0</td>\n",
              "      <td>0</td>\n",
              "      <td>0</td>\n",
              "      <td>0</td>\n",
              "      <td>0</td>\n",
              "      <td>0</td>\n",
              "      <td>0</td>\n",
              "      <td>0</td>\n",
              "      <td>0</td>\n",
              "      <td>0</td>\n",
              "      <td>0</td>\n",
              "      <td>0</td>\n",
              "      <td>0</td>\n",
              "      <td>0</td>\n",
              "    </tr>\n",
              "    <tr>\n",
              "      <th>2</th>\n",
              "      <td>Andheri</td>\n",
              "      <td>2</td>\n",
              "      <td>42000</td>\n",
              "      <td>1000</td>\n",
              "      <td>Fully Furnished</td>\n",
              "      <td>2</td>\n",
              "      <td>1</td>\n",
              "      <td>1.0</td>\n",
              "      <td>755.214235</td>\n",
              "      <td>0</td>\n",
              "      <td>0</td>\n",
              "      <td>0</td>\n",
              "      <td>0</td>\n",
              "      <td>0</td>\n",
              "      <td>0</td>\n",
              "      <td>0</td>\n",
              "      <td>0</td>\n",
              "      <td>0</td>\n",
              "      <td>0</td>\n",
              "      <td>0</td>\n",
              "      <td>0</td>\n",
              "      <td>0</td>\n",
              "      <td>0</td>\n",
              "      <td>0</td>\n",
              "      <td>0</td>\n",
              "      <td>0</td>\n",
              "      <td>0</td>\n",
              "      <td>0</td>\n",
              "      <td>0</td>\n",
              "      <td>0</td>\n",
              "      <td>0</td>\n",
              "      <td>0</td>\n",
              "      <td>0</td>\n",
              "      <td>0</td>\n",
              "      <td>0</td>\n",
              "      <td>0</td>\n",
              "      <td>0</td>\n",
              "      <td>0</td>\n",
              "      <td>0</td>\n",
              "      <td>0</td>\n",
              "      <td>0</td>\n",
              "      <td>0</td>\n",
              "      <td>0</td>\n",
              "      <td>0</td>\n",
              "      <td>0</td>\n",
              "      <td>0</td>\n",
              "      <td>0</td>\n",
              "      <td>0</td>\n",
              "      <td>0</td>\n",
              "      <td>0</td>\n",
              "    </tr>\n",
              "    <tr>\n",
              "      <th>3</th>\n",
              "      <td>Andheri</td>\n",
              "      <td>3</td>\n",
              "      <td>75000</td>\n",
              "      <td>1200</td>\n",
              "      <td>Fully Furnished</td>\n",
              "      <td>3</td>\n",
              "      <td>1</td>\n",
              "      <td>1.0</td>\n",
              "      <td>900.097667</td>\n",
              "      <td>0</td>\n",
              "      <td>0</td>\n",
              "      <td>0</td>\n",
              "      <td>0</td>\n",
              "      <td>0</td>\n",
              "      <td>0</td>\n",
              "      <td>0</td>\n",
              "      <td>0</td>\n",
              "      <td>0</td>\n",
              "      <td>0</td>\n",
              "      <td>0</td>\n",
              "      <td>0</td>\n",
              "      <td>0</td>\n",
              "      <td>0</td>\n",
              "      <td>0</td>\n",
              "      <td>0</td>\n",
              "      <td>0</td>\n",
              "      <td>0</td>\n",
              "      <td>0</td>\n",
              "      <td>0</td>\n",
              "      <td>0</td>\n",
              "      <td>0</td>\n",
              "      <td>0</td>\n",
              "      <td>0</td>\n",
              "      <td>0</td>\n",
              "      <td>0</td>\n",
              "      <td>0</td>\n",
              "      <td>0</td>\n",
              "      <td>0</td>\n",
              "      <td>0</td>\n",
              "      <td>0</td>\n",
              "      <td>0</td>\n",
              "      <td>0</td>\n",
              "      <td>0</td>\n",
              "      <td>0</td>\n",
              "      <td>0</td>\n",
              "      <td>0</td>\n",
              "      <td>0</td>\n",
              "      <td>0</td>\n",
              "      <td>0</td>\n",
              "      <td>0</td>\n",
              "    </tr>\n",
              "    <tr>\n",
              "      <th>4</th>\n",
              "      <td>Andheri</td>\n",
              "      <td>2</td>\n",
              "      <td>49500</td>\n",
              "      <td>1000</td>\n",
              "      <td>Fully Furnished</td>\n",
              "      <td>2</td>\n",
              "      <td>1</td>\n",
              "      <td>1.0</td>\n",
              "      <td>800.000000</td>\n",
              "      <td>0</td>\n",
              "      <td>0</td>\n",
              "      <td>0</td>\n",
              "      <td>0</td>\n",
              "      <td>0</td>\n",
              "      <td>0</td>\n",
              "      <td>0</td>\n",
              "      <td>0</td>\n",
              "      <td>0</td>\n",
              "      <td>0</td>\n",
              "      <td>0</td>\n",
              "      <td>0</td>\n",
              "      <td>0</td>\n",
              "      <td>0</td>\n",
              "      <td>0</td>\n",
              "      <td>0</td>\n",
              "      <td>0</td>\n",
              "      <td>0</td>\n",
              "      <td>0</td>\n",
              "      <td>0</td>\n",
              "      <td>0</td>\n",
              "      <td>0</td>\n",
              "      <td>0</td>\n",
              "      <td>0</td>\n",
              "      <td>0</td>\n",
              "      <td>0</td>\n",
              "      <td>0</td>\n",
              "      <td>0</td>\n",
              "      <td>0</td>\n",
              "      <td>0</td>\n",
              "      <td>0</td>\n",
              "      <td>0</td>\n",
              "      <td>0</td>\n",
              "      <td>0</td>\n",
              "      <td>0</td>\n",
              "      <td>0</td>\n",
              "      <td>0</td>\n",
              "      <td>0</td>\n",
              "      <td>0</td>\n",
              "      <td>0</td>\n",
              "      <td>0</td>\n",
              "    </tr>\n",
              "  </tbody>\n",
              "</table>\n",
              "</div>"
            ],
            "text/plain": [
              "  Locality  Type  Rent/Month  ...  Worli Semi Furnished  Unfurnished\n",
              "0  Andheri     3       65000  ...      0              0            0\n",
              "1  Andheri     2       75000  ...      0              0            0\n",
              "2  Andheri     2       42000  ...      0              0            0\n",
              "3  Andheri     3       75000  ...      0              0            0\n",
              "4  Andheri     2       49500  ...      0              0            0\n",
              "\n",
              "[5 rows x 50 columns]"
            ]
          },
          "metadata": {
            "tags": []
          },
          "execution_count": 180
        }
      ]
    },
    {
      "cell_type": "code",
      "metadata": {
        "id": "Xe134K12kxyd"
      },
      "source": [
        "df4.drop(['Locality','Furnishing'],axis=1,inplace=True)"
      ],
      "execution_count": 181,
      "outputs": []
    },
    {
      "cell_type": "code",
      "metadata": {
        "colab": {
          "base_uri": "https://localhost:8080/",
          "height": 240
        },
        "id": "31J1Vlb8lANf",
        "outputId": "dc1bc101-27c4-49e9-e020-a5bae7c8f62d"
      },
      "source": [
        "df4.head()"
      ],
      "execution_count": 182,
      "outputs": [
        {
          "output_type": "execute_result",
          "data": {
            "text/html": [
              "<div>\n",
              "<style scoped>\n",
              "    .dataframe tbody tr th:only-of-type {\n",
              "        vertical-align: middle;\n",
              "    }\n",
              "\n",
              "    .dataframe tbody tr th {\n",
              "        vertical-align: top;\n",
              "    }\n",
              "\n",
              "    .dataframe thead th {\n",
              "        text-align: right;\n",
              "    }\n",
              "</style>\n",
              "<table border=\"1\" class=\"dataframe\">\n",
              "  <thead>\n",
              "    <tr style=\"text-align: right;\">\n",
              "      <th></th>\n",
              "      <th>Type</th>\n",
              "      <th>Rent/Month</th>\n",
              "      <th>Build_up_area(sq.ft)</th>\n",
              "      <th>Bathrooms</th>\n",
              "      <th>Balcony</th>\n",
              "      <th>Parking</th>\n",
              "      <th>Carpet_area(sq.ft)</th>\n",
              "      <th>Bandra</th>\n",
              "      <th>Bhandup</th>\n",
              "      <th>Byculla</th>\n",
              "      <th>Chembur</th>\n",
              "      <th>Colaba</th>\n",
              "      <th>Dadar</th>\n",
              "      <th>Dharavi</th>\n",
              "      <th>Fort</th>\n",
              "      <th>Ghatkopar</th>\n",
              "      <th>Girgaon</th>\n",
              "      <th>Goregaon</th>\n",
              "      <th>Govandi</th>\n",
              "      <th>Grant Road</th>\n",
              "      <th>Jogeshwari</th>\n",
              "      <th>Juhu</th>\n",
              "      <th>Khar</th>\n",
              "      <th>Kurla</th>\n",
              "      <th>Lalbaug</th>\n",
              "      <th>Lokhandwala</th>\n",
              "      <th>Mahalakshmi</th>\n",
              "      <th>Mahim</th>\n",
              "      <th>Malabar Hill</th>\n",
              "      <th>Malad</th>\n",
              "      <th>Marine Drive</th>\n",
              "      <th>Masjid</th>\n",
              "      <th>Matunga</th>\n",
              "      <th>Mulund</th>\n",
              "      <th>Nariman Point</th>\n",
              "      <th>Parel</th>\n",
              "      <th>Powai</th>\n",
              "      <th>Prabhadevi</th>\n",
              "      <th>Santacruz</th>\n",
              "      <th>Sion</th>\n",
              "      <th>Tardeo</th>\n",
              "      <th>Vidyavihar</th>\n",
              "      <th>Vikhroli</th>\n",
              "      <th>Vile Parle</th>\n",
              "      <th>Wadala</th>\n",
              "      <th>Worli</th>\n",
              "      <th>Semi Furnished</th>\n",
              "      <th>Unfurnished</th>\n",
              "    </tr>\n",
              "  </thead>\n",
              "  <tbody>\n",
              "    <tr>\n",
              "      <th>0</th>\n",
              "      <td>3</td>\n",
              "      <td>65000</td>\n",
              "      <td>1050</td>\n",
              "      <td>3</td>\n",
              "      <td>1</td>\n",
              "      <td>2.0</td>\n",
              "      <td>850.000000</td>\n",
              "      <td>0</td>\n",
              "      <td>0</td>\n",
              "      <td>0</td>\n",
              "      <td>0</td>\n",
              "      <td>0</td>\n",
              "      <td>0</td>\n",
              "      <td>0</td>\n",
              "      <td>0</td>\n",
              "      <td>0</td>\n",
              "      <td>0</td>\n",
              "      <td>0</td>\n",
              "      <td>0</td>\n",
              "      <td>0</td>\n",
              "      <td>0</td>\n",
              "      <td>0</td>\n",
              "      <td>0</td>\n",
              "      <td>0</td>\n",
              "      <td>0</td>\n",
              "      <td>0</td>\n",
              "      <td>0</td>\n",
              "      <td>0</td>\n",
              "      <td>0</td>\n",
              "      <td>0</td>\n",
              "      <td>0</td>\n",
              "      <td>0</td>\n",
              "      <td>0</td>\n",
              "      <td>0</td>\n",
              "      <td>0</td>\n",
              "      <td>0</td>\n",
              "      <td>0</td>\n",
              "      <td>0</td>\n",
              "      <td>0</td>\n",
              "      <td>0</td>\n",
              "      <td>0</td>\n",
              "      <td>0</td>\n",
              "      <td>0</td>\n",
              "      <td>0</td>\n",
              "      <td>0</td>\n",
              "      <td>0</td>\n",
              "      <td>0</td>\n",
              "      <td>0</td>\n",
              "    </tr>\n",
              "    <tr>\n",
              "      <th>1</th>\n",
              "      <td>2</td>\n",
              "      <td>75000</td>\n",
              "      <td>750</td>\n",
              "      <td>2</td>\n",
              "      <td>1</td>\n",
              "      <td>1.0</td>\n",
              "      <td>650.000000</td>\n",
              "      <td>0</td>\n",
              "      <td>0</td>\n",
              "      <td>0</td>\n",
              "      <td>0</td>\n",
              "      <td>0</td>\n",
              "      <td>0</td>\n",
              "      <td>0</td>\n",
              "      <td>0</td>\n",
              "      <td>0</td>\n",
              "      <td>0</td>\n",
              "      <td>0</td>\n",
              "      <td>0</td>\n",
              "      <td>0</td>\n",
              "      <td>0</td>\n",
              "      <td>0</td>\n",
              "      <td>0</td>\n",
              "      <td>0</td>\n",
              "      <td>0</td>\n",
              "      <td>0</td>\n",
              "      <td>0</td>\n",
              "      <td>0</td>\n",
              "      <td>0</td>\n",
              "      <td>0</td>\n",
              "      <td>0</td>\n",
              "      <td>0</td>\n",
              "      <td>0</td>\n",
              "      <td>0</td>\n",
              "      <td>0</td>\n",
              "      <td>0</td>\n",
              "      <td>0</td>\n",
              "      <td>0</td>\n",
              "      <td>0</td>\n",
              "      <td>0</td>\n",
              "      <td>0</td>\n",
              "      <td>0</td>\n",
              "      <td>0</td>\n",
              "      <td>0</td>\n",
              "      <td>0</td>\n",
              "      <td>0</td>\n",
              "      <td>0</td>\n",
              "      <td>0</td>\n",
              "    </tr>\n",
              "    <tr>\n",
              "      <th>2</th>\n",
              "      <td>2</td>\n",
              "      <td>42000</td>\n",
              "      <td>1000</td>\n",
              "      <td>2</td>\n",
              "      <td>1</td>\n",
              "      <td>1.0</td>\n",
              "      <td>755.214235</td>\n",
              "      <td>0</td>\n",
              "      <td>0</td>\n",
              "      <td>0</td>\n",
              "      <td>0</td>\n",
              "      <td>0</td>\n",
              "      <td>0</td>\n",
              "      <td>0</td>\n",
              "      <td>0</td>\n",
              "      <td>0</td>\n",
              "      <td>0</td>\n",
              "      <td>0</td>\n",
              "      <td>0</td>\n",
              "      <td>0</td>\n",
              "      <td>0</td>\n",
              "      <td>0</td>\n",
              "      <td>0</td>\n",
              "      <td>0</td>\n",
              "      <td>0</td>\n",
              "      <td>0</td>\n",
              "      <td>0</td>\n",
              "      <td>0</td>\n",
              "      <td>0</td>\n",
              "      <td>0</td>\n",
              "      <td>0</td>\n",
              "      <td>0</td>\n",
              "      <td>0</td>\n",
              "      <td>0</td>\n",
              "      <td>0</td>\n",
              "      <td>0</td>\n",
              "      <td>0</td>\n",
              "      <td>0</td>\n",
              "      <td>0</td>\n",
              "      <td>0</td>\n",
              "      <td>0</td>\n",
              "      <td>0</td>\n",
              "      <td>0</td>\n",
              "      <td>0</td>\n",
              "      <td>0</td>\n",
              "      <td>0</td>\n",
              "      <td>0</td>\n",
              "      <td>0</td>\n",
              "    </tr>\n",
              "    <tr>\n",
              "      <th>3</th>\n",
              "      <td>3</td>\n",
              "      <td>75000</td>\n",
              "      <td>1200</td>\n",
              "      <td>3</td>\n",
              "      <td>1</td>\n",
              "      <td>1.0</td>\n",
              "      <td>900.097667</td>\n",
              "      <td>0</td>\n",
              "      <td>0</td>\n",
              "      <td>0</td>\n",
              "      <td>0</td>\n",
              "      <td>0</td>\n",
              "      <td>0</td>\n",
              "      <td>0</td>\n",
              "      <td>0</td>\n",
              "      <td>0</td>\n",
              "      <td>0</td>\n",
              "      <td>0</td>\n",
              "      <td>0</td>\n",
              "      <td>0</td>\n",
              "      <td>0</td>\n",
              "      <td>0</td>\n",
              "      <td>0</td>\n",
              "      <td>0</td>\n",
              "      <td>0</td>\n",
              "      <td>0</td>\n",
              "      <td>0</td>\n",
              "      <td>0</td>\n",
              "      <td>0</td>\n",
              "      <td>0</td>\n",
              "      <td>0</td>\n",
              "      <td>0</td>\n",
              "      <td>0</td>\n",
              "      <td>0</td>\n",
              "      <td>0</td>\n",
              "      <td>0</td>\n",
              "      <td>0</td>\n",
              "      <td>0</td>\n",
              "      <td>0</td>\n",
              "      <td>0</td>\n",
              "      <td>0</td>\n",
              "      <td>0</td>\n",
              "      <td>0</td>\n",
              "      <td>0</td>\n",
              "      <td>0</td>\n",
              "      <td>0</td>\n",
              "      <td>0</td>\n",
              "      <td>0</td>\n",
              "    </tr>\n",
              "    <tr>\n",
              "      <th>4</th>\n",
              "      <td>2</td>\n",
              "      <td>49500</td>\n",
              "      <td>1000</td>\n",
              "      <td>2</td>\n",
              "      <td>1</td>\n",
              "      <td>1.0</td>\n",
              "      <td>800.000000</td>\n",
              "      <td>0</td>\n",
              "      <td>0</td>\n",
              "      <td>0</td>\n",
              "      <td>0</td>\n",
              "      <td>0</td>\n",
              "      <td>0</td>\n",
              "      <td>0</td>\n",
              "      <td>0</td>\n",
              "      <td>0</td>\n",
              "      <td>0</td>\n",
              "      <td>0</td>\n",
              "      <td>0</td>\n",
              "      <td>0</td>\n",
              "      <td>0</td>\n",
              "      <td>0</td>\n",
              "      <td>0</td>\n",
              "      <td>0</td>\n",
              "      <td>0</td>\n",
              "      <td>0</td>\n",
              "      <td>0</td>\n",
              "      <td>0</td>\n",
              "      <td>0</td>\n",
              "      <td>0</td>\n",
              "      <td>0</td>\n",
              "      <td>0</td>\n",
              "      <td>0</td>\n",
              "      <td>0</td>\n",
              "      <td>0</td>\n",
              "      <td>0</td>\n",
              "      <td>0</td>\n",
              "      <td>0</td>\n",
              "      <td>0</td>\n",
              "      <td>0</td>\n",
              "      <td>0</td>\n",
              "      <td>0</td>\n",
              "      <td>0</td>\n",
              "      <td>0</td>\n",
              "      <td>0</td>\n",
              "      <td>0</td>\n",
              "      <td>0</td>\n",
              "      <td>0</td>\n",
              "    </tr>\n",
              "  </tbody>\n",
              "</table>\n",
              "</div>"
            ],
            "text/plain": [
              "   Type  Rent/Month  Build_up_area(sq.ft)  ...  Worli  Semi Furnished  Unfurnished\n",
              "0     3       65000                  1050  ...      0               0            0\n",
              "1     2       75000                   750  ...      0               0            0\n",
              "2     2       42000                  1000  ...      0               0            0\n",
              "3     3       75000                  1200  ...      0               0            0\n",
              "4     2       49500                  1000  ...      0               0            0\n",
              "\n",
              "[5 rows x 48 columns]"
            ]
          },
          "metadata": {
            "tags": []
          },
          "execution_count": 182
        }
      ]
    },
    {
      "cell_type": "code",
      "metadata": {
        "colab": {
          "base_uri": "https://localhost:8080/"
        },
        "id": "oWHtAW03lBu-",
        "outputId": "0e311bb7-d19f-4574-991e-bed018b0f9c2"
      },
      "source": [
        "df4.dtypes"
      ],
      "execution_count": 183,
      "outputs": [
        {
          "output_type": "execute_result",
          "data": {
            "text/plain": [
              "Type                      int64\n",
              "Rent/Month                int64\n",
              "Build_up_area(sq.ft)      int64\n",
              "Bathrooms                 int64\n",
              "Balcony                   int64\n",
              "Parking                 float64\n",
              "Carpet_area(sq.ft)      float64\n",
              "Bandra                    uint8\n",
              "Bhandup                   uint8\n",
              "Byculla                   uint8\n",
              "Chembur                   uint8\n",
              "Colaba                    uint8\n",
              "Dadar                     uint8\n",
              "Dharavi                   uint8\n",
              "Fort                      uint8\n",
              "Ghatkopar                 uint8\n",
              "Girgaon                   uint8\n",
              "Goregaon                  uint8\n",
              "Govandi                   uint8\n",
              "Grant Road                uint8\n",
              "Jogeshwari                uint8\n",
              "Juhu                      uint8\n",
              "Khar                      uint8\n",
              "Kurla                     uint8\n",
              "Lalbaug                   uint8\n",
              "Lokhandwala               uint8\n",
              "Mahalakshmi               uint8\n",
              "Mahim                     uint8\n",
              "Malabar Hill              uint8\n",
              "Malad                     uint8\n",
              "Marine Drive              uint8\n",
              "Masjid                    uint8\n",
              "Matunga                   uint8\n",
              "Mulund                    uint8\n",
              "Nariman Point             uint8\n",
              "Parel                     uint8\n",
              "Powai                     uint8\n",
              "Prabhadevi                uint8\n",
              "Santacruz                 uint8\n",
              "Sion                      uint8\n",
              "Tardeo                    uint8\n",
              "Vidyavihar                uint8\n",
              "Vikhroli                  uint8\n",
              "Vile Parle                uint8\n",
              "Wadala                    uint8\n",
              "Worli                     uint8\n",
              "Semi Furnished            uint8\n",
              "Unfurnished               uint8\n",
              "dtype: object"
            ]
          },
          "metadata": {
            "tags": []
          },
          "execution_count": 183
        }
      ]
    },
    {
      "cell_type": "code",
      "metadata": {
        "colab": {
          "base_uri": "https://localhost:8080/"
        },
        "id": "vm2I60tZlSdK",
        "outputId": "b75ccf68-2d9e-4544-9aaf-b34766202f68"
      },
      "source": [
        "from sklearn.model_selection import cross_val_score\n",
        "cross_val_score(LinearRegression(),df4.drop(['Rent/Month'],axis='columns'),df4['Rent/Month'],cv=5)"
      ],
      "execution_count": 184,
      "outputs": [
        {
          "output_type": "execute_result",
          "data": {
            "text/plain": [
              "array([0.62246449, 0.67320084, 0.76875186, 0.68658608, 0.46744556])"
            ]
          },
          "metadata": {
            "tags": []
          },
          "execution_count": 184
        }
      ]
    },
    {
      "cell_type": "code",
      "metadata": {
        "colab": {
          "base_uri": "https://localhost:8080/"
        },
        "id": "DyBumMZ0lcVo",
        "outputId": "062099d7-b341-4cfa-f6d8-5ecb3f6c3bad"
      },
      "source": [
        "from sklearn.linear_model import Lasso\n",
        "cross_val_score(Lasso(alpha=1),df4.drop(['Rent/Month'],axis='columns'),df4['Rent/Month'],cv=5)"
      ],
      "execution_count": 190,
      "outputs": [
        {
          "output_type": "execute_result",
          "data": {
            "text/plain": [
              "array([0.6213029 , 0.67209516, 0.76780528, 0.6864212 , 0.47077625])"
            ]
          },
          "metadata": {
            "tags": []
          },
          "execution_count": 190
        }
      ]
    },
    {
      "cell_type": "code",
      "metadata": {
        "colab": {
          "base_uri": "https://localhost:8080/"
        },
        "id": "NGAxEgyAqUYM",
        "outputId": "3e5b0bfe-42f5-4443-d649-e3501a3ed174"
      },
      "source": [
        "from sklearn.linear_model import Ridge\n",
        "cross_val_score(Ridge(),df4.drop(['Rent/Month'],axis='columns'),df4['Rent/Month'],cv=5)"
      ],
      "execution_count": 191,
      "outputs": [
        {
          "output_type": "execute_result",
          "data": {
            "text/plain": [
              "array([0.61998781, 0.67183305, 0.76820136, 0.68636391, 0.47097109])"
            ]
          },
          "metadata": {
            "tags": []
          },
          "execution_count": 191
        }
      ]
    },
    {
      "cell_type": "code",
      "metadata": {
        "colab": {
          "base_uri": "https://localhost:8080/"
        },
        "id": "Nfk08Wzcqwca",
        "outputId": "e5c4e44d-74ba-4f02-efcc-5b064e8443eb"
      },
      "source": [
        "cross_val_score(LinearRegression(),df4.drop(['Rent/Month'],axis='columns'),df4['Rent/Month'],cv=5)"
      ],
      "execution_count": 193,
      "outputs": [
        {
          "output_type": "execute_result",
          "data": {
            "text/plain": [
              "array([0.62246449, 0.67320084, 0.76875186, 0.68658608, 0.46744556])"
            ]
          },
          "metadata": {
            "tags": []
          },
          "execution_count": 193
        }
      ]
    },
    {
      "cell_type": "code",
      "metadata": {
        "id": "Q_dm3WGUq4T9"
      },
      "source": [
        "from sklearn.model_selection import train_test_split\n",
        "X_train, X_test, y_train, y_test = train_test_split(df4.drop(['Rent/Month'],axis='columns'), df4['Rent/Month'], test_size=0.33, random_state=42)"
      ],
      "execution_count": 197,
      "outputs": []
    },
    {
      "cell_type": "code",
      "metadata": {
        "colab": {
          "base_uri": "https://localhost:8080/"
        },
        "id": "Q_5FQE8mr4iR",
        "outputId": "0b9b22bc-b4b6-4990-ca60-1489f6b37d29"
      },
      "source": [
        "model = LinearRegression()\n",
        "model.fit(X_train,y_train)\n",
        "model.score(X_test,y_test)"
      ],
      "execution_count": 198,
      "outputs": [
        {
          "output_type": "execute_result",
          "data": {
            "text/plain": [
              "0.7436659694737101"
            ]
          },
          "metadata": {
            "tags": []
          },
          "execution_count": 198
        }
      ]
    },
    {
      "cell_type": "code",
      "metadata": {
        "colab": {
          "base_uri": "https://localhost:8080/"
        },
        "id": "mgLDGLlss_i8",
        "outputId": "ee39309c-3201-4bb3-8f24-f304f284a6d9"
      },
      "source": [
        "X_train.columns"
      ],
      "execution_count": 199,
      "outputs": [
        {
          "output_type": "execute_result",
          "data": {
            "text/plain": [
              "Index(['Type', 'Build_up_area(sq.ft)', 'Bathrooms', 'Balcony', 'Parking',\n",
              "       'Carpet_area(sq.ft)', 'Bandra', 'Bhandup', 'Byculla', 'Chembur',\n",
              "       'Colaba', 'Dadar', 'Dharavi', 'Fort', 'Ghatkopar', 'Girgaon',\n",
              "       'Goregaon', 'Govandi', 'Grant Road', 'Jogeshwari', 'Juhu', 'Khar',\n",
              "       'Kurla', 'Lalbaug', 'Lokhandwala', 'Mahalakshmi', 'Mahim',\n",
              "       'Malabar Hill', 'Malad', 'Marine Drive', 'Masjid', 'Matunga', 'Mulund',\n",
              "       'Nariman Point', 'Parel', 'Powai', 'Prabhadevi', 'Santacruz', 'Sion',\n",
              "       'Tardeo', 'Vidyavihar', 'Vikhroli', 'Vile Parle', 'Wadala', 'Worli',\n",
              "       'Semi Furnished', 'Unfurnished'],\n",
              "      dtype='object')"
            ]
          },
          "metadata": {
            "tags": []
          },
          "execution_count": 199
        }
      ]
    },
    {
      "cell_type": "code",
      "metadata": {
        "id": "SsotdCcXsKf8"
      },
      "source": [
        "def predict_score(model,bedrooms,Build_up_area,Bathrooms,Balcony,Parking,Carpet_area,locality,furnishing):\n",
        "    columns= ['Type', 'Build_up_area(sq.ft)', 'Bathrooms', 'Balcony', 'Parking',\\\n",
        "       'Carpet_area(sq.ft)', 'Bandra', 'Bhandup', 'Byculla', 'Chembur',\\\n",
        "       'Colaba', 'Dadar', 'Dharavi', 'Fort', 'Ghatkopar', 'Girgaon',\\\n",
        "       'Goregaon', 'Govandi', 'Grant Road', 'Jogeshwari', 'Juhu', 'Khar',\\\n",
        "       'Kurla', 'Lalbaug', 'Lokhandwala', 'Mahalakshmi', 'Mahim',\\\n",
        "       'Malabar Hill', 'Malad', 'Marine Drive', 'Masjid', 'Matunga', 'Mulund',\\\n",
        "       'Nariman Point', 'Parel', 'Powai', 'Prabhadevi', 'Santacruz', 'Sion',\\\n",
        "       'Tardeo', 'Vidyavihar', 'Vikhroli', 'Vile Parle', 'Wadala', 'Worli',\\\n",
        "       'Semi Furnished', 'Unfurnished']\n",
        "    columns = np.array(columns)\n",
        "    # print(np.where(columns==locality))\n",
        "    try:\n",
        "      loc_index = np.where(columns==locality)[0][0]\n",
        "      x[loc_index] = 1\n",
        "      furn_index = np.where(columns==furnishing)[0][0]\n",
        "      x[furn_index] = 1\n",
        "    except:\n",
        "      pass\n",
        "    x = np.zeros(len(columns))\n",
        "    x[0] = bedrooms\n",
        "    x[1] = Build_up_area\n",
        "    x[2] = Bathrooms\n",
        "    x[3] = Balcony\n",
        "    x[4] = Parking\n",
        "    x[5] = Carpet_area\n",
        "\n",
        "    return model.predict([x])[0]"
      ],
      "execution_count": 211,
      "outputs": []
    },
    {
      "cell_type": "code",
      "metadata": {
        "colab": {
          "base_uri": "https://localhost:8080/"
        },
        "id": "DzJ4F1VguUpF",
        "outputId": "1d31ccf4-a137-4a7a-b6b4-5582485c31f2"
      },
      "source": [
        "predict_score(model,2,1240,2,4,1,850,'Andheri','Semi Furnished')"
      ],
      "execution_count": 212,
      "outputs": [
        {
          "output_type": "execute_result",
          "data": {
            "text/plain": [
              "57715.31893821875"
            ]
          },
          "metadata": {
            "tags": []
          },
          "execution_count": 212
        }
      ]
    },
    {
      "cell_type": "code",
      "metadata": {
        "id": "I4P24WA6vVDa"
      },
      "source": [
        ""
      ],
      "execution_count": null,
      "outputs": []
    }
  ]
}